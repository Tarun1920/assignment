{
 "cells": [
  {
   "cell_type": "code",
   "execution_count": null,
   "id": "cbdef1cb-0955-4711-a7c9-69d2f763870c",
   "metadata": {},
   "outputs": [],
   "source": [
    "ans 1\n",
    "exception: an exception is an event that occurs during the execution\n",
    "of a program that disrupts the normal flow of the program. When an\n",
    "exceptional situation or error occurs, Python raises an exception to\n",
    "handle the error gracefully. Exceptions can occur for various reasons, \n",
    "such as invalid input, a file that cannot be found, or trying to \n",
    "perform an unsupported operation.\n",
    "example:\n",
    "try:\n",
    "    # Code that may raise an exception\n",
    "    x = 10 / 0\n",
    "except ZeroDivisionError:\n",
    "    # Handle the specific exception (in this case, a division by zero error)\n",
    "    print(\"You can't divide by zero.\")\n",
    "\n",
    "difference between exception and syntex error\n",
    "Exceptions:\n",
    "\n",
    "Exceptions are runtime errors that occur during the execution of a Python program.\n",
    "They are typically caused by unforeseen circumstances, like user input, external data, or the program's dynamic behavior.\n",
    "You can catch and handle exceptions using try and except blocks to prevent your program from crashing and provide a graceful response to errors.\n",
    "Examples of exceptions include ZeroDivisionError, FileNotFoundError, IndexError, and many others.\n",
    "Syntax Errors:\n",
    "\n",
    "Syntax errors, also known as parsing errors, occur when there is a mistake in the structure of your Python code. These errors are detected by the Python interpreter during the parsing phase before the code is executed.\n",
    "Syntax errors are usually caused by misspelled keywords, incorrect indentation, missing colons, or other violations of Python's syntax rules.\n",
    "You cannot catch and handle syntax errors using try and except blocks because they prevent your code from running altogether.\n",
    "Examples of syntax errors include forgetting to close parentheses, using an undefined variable, or mismatched indentation levels.\n",
    "# This code contains a syntax error (missing colon after 'if')\n",
    "if x == 5\n",
    "    print(\"x is equal to 5\")"
   ]
  },
  {
   "cell_type": "code",
   "execution_count": null,
   "id": "22306061-3f37-4681-9d95-ed7decfa2eb8",
   "metadata": {},
   "outputs": [],
   "source": [
    "ans 2\n",
    "When an exception is not handled in a Python program, it will propagate\n",
    "up the call stack until it is caught and handled by an appropriate \n",
    "exception handler or until it reaches the top level of the program.\n",
    "If no handler is found at any level of the call stack, the program \n",
    "will terminate, and Python will display an error message indicating \n",
    "the unhandled exception, along with a traceback of the call stack to \n",
    "help you identify the location and cause of the exception\n",
    "#example\n",
    "def divide(a, b):\n",
    "    return a / b\n",
    "\n",
    "try:\n",
    "    result = divide(10, 0)  # This will raise a ZeroDivisionError\n",
    "    print(\"Result:\", result)\n",
    "except ValueError:  # This handler does not match the raised exception\n",
    "    print(\"A ValueError occurred.\")"
   ]
  },
  {
   "cell_type": "code",
   "execution_count": null,
   "id": "ef39445e-31b2-41a2-9d74-1742b381724f",
   "metadata": {},
   "outputs": [],
   "source": [
    "ans 3\n",
    "Python, you can catch and handle exceptions using the try and except \n",
    "statements. The try block contains the code that might raise an \n",
    "exception, and the except block specifies how to handle the exception\n",
    "if it occurs."
   ]
  },
  {
   "cell_type": "code",
   "execution_count": null,
   "id": "3aa2a048-39fa-479b-ac5c-142f953bd18c",
   "metadata": {},
   "outputs": [],
   "source": [
    "#example\n",
    "try:\n",
    "    num = int(input(\"Enter a number: \"))\n",
    "    result = 10 / num\n",
    "    print(\"Result:\", result)\n",
    "except ZeroDivisionError:\n",
    "    print(\"You can't divide by zero.\")\n",
    "except ValueError:\n",
    "    print(\"Invalid input. Please enter a valid number.\")\n",
    "except Exception as e:\n",
    "    print(f\"An error occurred: {e}\")\n",
    "else:\n",
    "    print(\"No exceptions were raised.\")\n",
    "finally:\n",
    "    print(\"This code always runs, with or without exceptions.\")\n"
   ]
  },
  {
   "cell_type": "markdown",
   "id": "6788e85a-d6e5-48b1-b219-e77173713b04",
   "metadata": {},
   "source": [
    "ans 4"
   ]
  },
  {
   "cell_type": "code",
   "execution_count": null,
   "id": "eda800d9-c945-4a86-8704-24b0b28748a6",
   "metadata": {},
   "outputs": [],
   "source": [
    "#example\n",
    "try:\n",
    "    num = int(input(\"Enter a positive number: \"))\n",
    "    if num <= 0:\n",
    "        raise ValueError(\"Number must be positive\")\n",
    "except ValueError as ve:\n",
    "    print(f\"Error: {ve}\")\n",
    "else:\n",
    "    reciprocal = 1 / num\n",
    "    print(f\"The reciprocal of {num} is {reciprocal:.2f}\")\n",
    "finally:\n",
    "    print(\"Execution complete.\")"
   ]
  },
  {
   "cell_type": "markdown",
   "id": "b10f7a30-eb3c-44fa-b5a0-69ca9bbe0a35",
   "metadata": {},
   "source": [
    "ans 5"
   ]
  },
  {
   "cell_type": "code",
   "execution_count": null,
   "id": "06986d77-b1c2-4a51-90bc-47c57792b5cc",
   "metadata": {},
   "outputs": [],
   "source": [
    "custom exceptions are user-defined exceptions that allow you to\n",
    "create your own exception types to handle specific error conditions\n",
    "in your code. While Python provides a wide range of built-in\n",
    "exceptions (e.g., ValueError, ZeroDivisionError,\n",
    "            \n",
    "we need custom exception for  many reasons:\n",
    "1. clarity and readability\n",
    "2.modularity\n",
    "3. selective handling"
   ]
  },
  {
   "cell_type": "code",
   "execution_count": null,
   "id": "c8e166dd-6211-4053-ae25-9b4d201414fc",
   "metadata": {},
   "outputs": [],
   "source": [
    "#example\n",
    "class NegativeNumberError(Exception):\n",
    "    def __init__(self, value):\n",
    "        self.value = value\n",
    "        super().__init__(f\"Negative numbers are not allowed: {value}\")\n",
    "\n",
    "def calculate_square_root(number):\n",
    "    if number < 0:\n",
    "        raise NegativeNumberError(number)\n",
    "    return number ** 0.5\n",
    "\n",
    "try:\n",
    "    result = calculate_square_root(-4)\n",
    "    print(f\"Square root: {result}\")\n",
    "except NegativeNumberError as e:\n",
    "    print(f\"Error: {e}\")\n",
    "except Exception as e:\n",
    "    print(f\"An unexpected error occurred: {e}\")"
   ]
  },
  {
   "cell_type": "markdown",
   "id": "b7626051-14d7-4780-b4e8-9587ab51bf68",
   "metadata": {},
   "source": [
    "ans 6"
   ]
  },
  {
   "cell_type": "code",
   "execution_count": null,
   "id": "5f8d6725-ad19-463e-b25b-1ed66461e97e",
   "metadata": {},
   "outputs": [],
   "source": [
    "class InvalidEmailError(Exception):\n",
    "    def __init__(self, email):\n",
    "        self.email = email\n",
    "        super().__init__(f\"Invalid email address: {email}\")\n",
    "\n",
    "def validate_email(email):\n",
    "    if \"@\" not in email:\n",
    "        raise InvalidEmailError(email)\n",
    "\n",
    "# Example of using the custom exception\n",
    "try:\n",
    "    email = input(\"Enter an email address: \")\n",
    "    validate_email(email)\n",
    "    print(\"Email address is valid:\", email)\n",
    "except InvalidEmailError as e:\n",
    "    print(f\"Error: {e}\")\n",
    "except Exception as e:\n",
    "    print(f\"An unexpected error occurred: {e}\")"
   ]
  }
 ],
 "metadata": {
  "kernelspec": {
   "display_name": "Python 3 (ipykernel)",
   "language": "python",
   "name": "python3"
  },
  "language_info": {
   "codemirror_mode": {
    "name": "ipython",
    "version": 3
   },
   "file_extension": ".py",
   "mimetype": "text/x-python",
   "name": "python",
   "nbconvert_exporter": "python",
   "pygments_lexer": "ipython3",
   "version": "3.10.8"
  }
 },
 "nbformat": 4,
 "nbformat_minor": 5
}
