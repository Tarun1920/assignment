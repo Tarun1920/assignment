{
 "cells": [
  {
   "cell_type": "markdown",
   "id": "147fa1ac-23df-4544-b0b1-57588719f5c9",
   "metadata": {},
   "source": [
    "ans 1\n",
    "\n",
    "abstraction: it allows us to focus on the essential  aspects of an object while ignoring the non essential deatials."
   ]
  },
  {
   "cell_type": "code",
   "execution_count": 3,
   "id": "46405880-6bf7-45da-ad4e-e0d952602b60",
   "metadata": {},
   "outputs": [
    {
     "name": "stdout",
     "output_type": "stream",
     "text": [
      "buddy says woof!\n",
      "whiskers says Meow!\n"
     ]
    }
   ],
   "source": [
    "# example\n",
    "class Animal:\n",
    "    def __init__(self,name):\n",
    "        self.name= name\n",
    "        \n",
    "    def speak(self):\n",
    "        pass\n",
    "    \n",
    "class Dog(Animal):\n",
    "    def speak(self):\n",
    "        return f\"{self.name} says woof!\"\n",
    "    \n",
    "class Cat(Animal):\n",
    "    def speak(self):\n",
    "        return f\"{self.name} says Meow!\"\n",
    "    #usage \n",
    "dog = Dog(\"buddy\")\n",
    "cat = Cat(\"whiskers\")\n",
    "\n",
    "print(dog.speak())\n",
    "print(cat.speak())"
   ]
  },
  {
   "cell_type": "markdown",
   "id": "aaa323f7-488e-4a67-93e8-70dfef3d842e",
   "metadata": {},
   "source": [
    "ans 2\n",
    "abstarction:  it is the priocess of simplifying complex reality by modeling \n",
    "classes based the essential properties and behaviour while hiding unnecessary details .\n",
    "it focuses on showiing what an object does rather than how it does it.\n",
    "\n",
    "encapsulation: it is the concept of bundling data and the methods that operate on that data into a single unit known as a class. it restricts\n",
    "direct access to same of an object components and prevents the accidential modification of data."
   ]
  },
  {
   "cell_type": "code",
   "execution_count": 4,
   "id": "e272fd3e-4cd4-4f84-a111-93c2239e4bd5",
   "metadata": {},
   "outputs": [],
   "source": [
    "#example of encapsulation\n",
    "class Student:\n",
    "    def __init__(self,name,roll_number):\n",
    "        self._name= name\n",
    "        self._roll_number = _roll_number\n",
    "    def get_name(self):\n",
    "        return self._name\n",
    "    def set_name(self,name):\n",
    "        self._name = name\n",
    "    def get_roll_number(self):\n",
    "        return self._roll_number\n",
    "    def set_roll_number(self,roll_number):\n",
    "        self._roll_number = roll_number"
   ]
  },
  {
   "cell_type": "markdown",
   "id": "319ea3a9-2225-4e6b-bb03-0806cb4afab9",
   "metadata": {},
   "source": [
    "ans 3\n",
    "abc module: abstract base classes .it is a module that provides mechanism for defining  abstract classes in python and enforcing \n",
    "that certain methods  must be implemented by concrete subclasses. abc are classes that can not be installed themselves but serve as a blueprint for other classes.\n",
    "IT USED FOR \n",
    "1. ENFORCING INTERFACES\n",
    "2. CODE CLARITY\n",
    "3. POLYMORPHISM"
   ]
  },
  {
   "cell_type": "markdown",
   "id": "c38cfaa9-641a-4c9a-84c0-da8035420836",
   "metadata": {},
   "source": [
    "ans 4 \n",
    "we can achieve daata abstarction through several techniques\n",
    "1.classes and objects:\n",
    "    .create classes to represent abstract data types\n",
    "    .use constructors and methods \n",
    "    .hide the internal representation of data by making attribute private\n",
    "2. use modules:\n",
    "    .create modules to group related function and data together.\n",
    "    .expose onlyb the necessary function and data through the module public interface ,hiding implementation\n",
    "3.using libraries and APIS:\n",
    "    .utilize libraries and apis provided by programmimg frameworks or external\n",
    "    sources\n",
    "    .theses libraries abstract complex functionality into easy_ to _ use  functions and classes.\n",
    "4. database Abstarcion Layer\n",
    "    .when working with database use database abstarction layers or ORM frameworks like SQLAlchemy\n",
    "    .these tools abstarct the database operation  and provide a higher_level_interface for\n",
    "    working with datavbases.\n",
    "        \n",
    "    \n"
   ]
  },
  {
   "cell_type": "code",
   "execution_count": 5,
   "id": "3efc3717-4dfa-4ba7-9f00-8eaacf54a32d",
   "metadata": {},
   "outputs": [
    {
     "ename": "NameError",
     "evalue": "name 'MyAbstractClass' is not defined",
     "output_type": "error",
     "traceback": [
      "\u001b[0;31m---------------------------------------------------------------------------\u001b[0m",
      "\u001b[0;31mNameError\u001b[0m                                 Traceback (most recent call last)",
      "Cell \u001b[0;32mIn[5], line 9\u001b[0m\n\u001b[1;32m      6\u001b[0m     \u001b[38;5;129m@abstractmethod\u001b[39m\n\u001b[1;32m      7\u001b[0m     \u001b[38;5;28;01mdef\u001b[39;00m \u001b[38;5;21mabstarct_method\u001b[39m(\u001b[38;5;28mself\u001b[39m):\n\u001b[1;32m      8\u001b[0m         \u001b[38;5;28;01mpass\u001b[39;00m\n\u001b[0;32m----> 9\u001b[0m \u001b[38;5;28;01mclass\u001b[39;00m \u001b[38;5;21;01mMyConcertClass\u001b[39;00m(\u001b[43mMyAbstractClass\u001b[49m):\n\u001b[1;32m     10\u001b[0m     \u001b[38;5;28;01mdef\u001b[39;00m \u001b[38;5;21mabstarct_method\u001b[39m(\u001b[38;5;28mself\u001b[39m):\n\u001b[1;32m     11\u001b[0m         \u001b[38;5;28mprint\u001b[39m(\u001b[38;5;124m\"\u001b[39m\u001b[38;5;124m concrete implementation of abstract_method\u001b[39m\u001b[38;5;124m\"\u001b[39m)\n",
      "\u001b[0;31mNameError\u001b[0m: name 'MyAbstractClass' is not defined"
     ]
    }
   ],
   "source": [
    "#ans 5. no we can not create an instance of abstarct class in python.\n",
    "# it show an error\n",
    "# example\n",
    "from abc import ABC, abstractmethod\n",
    "\n",
    "class MyAbstarctClass(ABC):\n",
    "    @abstractmethod\n",
    "    def abstarct_method(self):\n",
    "        pass\n",
    "class MyConcertClass(MyAbstractClass):\n",
    "    def abstarct_method(self):\n",
    "        print(\"concrete implementation of abstract_method\")\n",
    "        \n",
    "my_instance = MyConcertClass()\n",
    "my_instance.abstract_method()\n",
    "    \n"
   ]
  },
  {
   "cell_type": "code",
   "execution_count": null,
   "id": "d5964dd1-3411-48ef-b610-f65ac905d1a4",
   "metadata": {},
   "outputs": [],
   "source": []
  }
 ],
 "metadata": {
  "kernelspec": {
   "display_name": "Python 3 (ipykernel)",
   "language": "python",
   "name": "python3"
  },
  "language_info": {
   "codemirror_mode": {
    "name": "ipython",
    "version": 3
   },
   "file_extension": ".py",
   "mimetype": "text/x-python",
   "name": "python",
   "nbconvert_exporter": "python",
   "pygments_lexer": "ipython3",
   "version": "3.10.8"
  }
 },
 "nbformat": 4,
 "nbformat_minor": 5
}
