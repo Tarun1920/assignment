{
 "cells": [
  {
   "cell_type": "code",
   "execution_count": null,
   "id": "a02792ad-8faf-4884-8a3c-fbed9a9c22b7",
   "metadata": {},
   "outputs": [],
   "source": [
    "ans 1"
   ]
  },
  {
   "cell_type": "code",
   "execution_count": null,
   "id": "4cd978f6-26dc-47d5-8023-185e72cd2588",
   "metadata": {},
   "outputs": [],
   "source": [
    "use of for loop\n",
    "\n",
    "for loop are used when you know how may times we want to \n",
    "repeat a block of code"
   ]
  },
  {
   "cell_type": "code",
   "execution_count": 1,
   "id": "7acd3f85-c7b0-4f9f-b907-f378c22248ac",
   "metadata": {},
   "outputs": [
    {
     "name": "stdout",
     "output_type": "stream",
     "text": [
      "1\n",
      "2\n",
      "3\n",
      "4\n",
      "5\n"
     ]
    }
   ],
   "source": [
    "for i in range(1,6):\n",
    "    print (i)"
   ]
  },
  {
   "cell_type": "code",
   "execution_count": 16,
   "id": "92237a94-82c3-46ec-934b-d2fbc79bf963",
   "metadata": {},
   "outputs": [
    {
     "ename": "SyntaxError",
     "evalue": "invalid syntax (100633277.py, line 1)",
     "output_type": "error",
     "traceback": [
      "\u001b[0;36m  Cell \u001b[0;32mIn[16], line 1\u001b[0;36m\u001b[0m\n\u001b[0;31m    use for a while loop\u001b[0m\n\u001b[0m        ^\u001b[0m\n\u001b[0;31mSyntaxError\u001b[0m\u001b[0;31m:\u001b[0m invalid syntax\n"
     ]
    }
   ],
   "source": [
    "use for a while loop\n",
    "\n",
    "while loops are used when we need to repeatedly execute a block of code\n",
    "until a certain condition is met."
   ]
  },
  {
   "cell_type": "code",
   "execution_count": 17,
   "id": "270abbae-9d72-4f7c-9f0b-5a03270a98aa",
   "metadata": {},
   "outputs": [
    {
     "name": "stdout",
     "output_type": "stream",
     "text": [
      "Rolled a 3\n",
      "Rolled a 6\n"
     ]
    }
   ],
   "source": [
    "import random\n",
    "\n",
    "while True:\n",
    "    roll=random.randint(1,6)\n",
    "    print(f\"Rolled a {roll}\")\n",
    "    if roll == 6:\n",
    "        break"
   ]
  },
  {
   "cell_type": "markdown",
   "id": "653cbf93-d8af-4845-8bac-6e11e3b4cd7d",
   "metadata": {},
   "source": [
    "ans 2"
   ]
  },
  {
   "cell_type": "code",
   "execution_count": 18,
   "id": "ceee84e1-e992-4c78-a6ba-cb70d795a4f3",
   "metadata": {},
   "outputs": [
    {
     "ename": "SyntaxError",
     "evalue": "invalid syntax (2715771601.py, line 1)",
     "output_type": "error",
     "traceback": [
      "\u001b[0;36m  Cell \u001b[0;32mIn[18], line 1\u001b[0;36m\u001b[0m\n\u001b[0;31m    using for loop to calculate the sum and product of the first 10\u001b[0m\n\u001b[0m          ^\u001b[0m\n\u001b[0;31mSyntaxError\u001b[0m\u001b[0;31m:\u001b[0m invalid syntax\n"
     ]
    }
   ],
   "source": [
    "using for loop to calculate the sum and product of the first 10\n",
    "natural number"
   ]
  },
  {
   "cell_type": "code",
   "execution_count": 19,
   "id": "e8c075fb-3b04-4b71-917b-64a65aaa7e7d",
   "metadata": {},
   "outputs": [
    {
     "name": "stdout",
     "output_type": "stream",
     "text": [
      "sum of the first 10 natural numbers: 10\n",
      "product of the first10 natural numbers3628800\n"
     ]
    }
   ],
   "source": [
    "n=10\n",
    "sum_of_numbers=0\n",
    "product_of_numbers=1\n",
    "\n",
    "for i in range (1,n+1):\n",
    "    sum_of_numbers += 1\n",
    "    product_of_numbers *= i\n",
    "    \n",
    "print(f\"sum of the first {n} natural numbers: {sum_of_numbers}\")\n",
    "print(f\"product of the first{n} natural numbers{product_of_numbers}\")"
   ]
  },
  {
   "cell_type": "markdown",
   "id": "2ae2b9f6-762a-4387-861d-57194a98b8a5",
   "metadata": {},
   "source": [
    "using while loop to calculate"
   ]
  },
  {
   "cell_type": "code",
   "execution_count": 21,
   "id": "b35b33af-9303-4c61-a878-6b48dddbd636",
   "metadata": {},
   "outputs": [],
   "source": [
    "n=10\n",
    "sum_of_numbers =0\n",
    "product_0f_numbers=1\n",
    "i=1\n",
    "\n",
    "while i<= n:\n",
    "    sum_of_numbers += 1\n",
    "    product_of_numbers *=i\n",
    "    i +=1\n",
    "    "
   ]
  },
  {
   "cell_type": "markdown",
   "id": "ee5d5ee1-0703-4033-9db0-ba6b6a5163fc",
   "metadata": {},
   "source": [
    "ans 3"
   ]
  },
  {
   "cell_type": "code",
   "execution_count": 14,
   "id": "c25bc01a-a3f5-462e-b538-57d3b8744016",
   "metadata": {},
   "outputs": [],
   "source": [
    "#function to calcuate electricity bill\n",
    "def calculate_electricity_bills(unit_consumed):\n",
    "    if units_consumed <=100:\n",
    "        return units_consumed * 4.5\n",
    "    elif units_consumed <=200:\n",
    "        return (100*4.5)+((unts_consumed - 100) * 6)\n",
    "    elif units_consumed <=300:\n",
    "        return (100 * 4.5)+ (100 * 6) +((units_consumed - 200) *10)\n",
    "    else:\n",
    "        return (100 *4.5) + (100 * 6) + ( 100 * 10 )+((units_consumed - 300)* 20)\n",
    "    #calclate electricity  bill for a household\n",
    "    units_consumed = float(input(\"Enter the number of umits consumed: \"))\n",
    "    total_bill = calculate_electricity_bill(units_consumed)\n",
    "    print(f\"Electricity Bill: rs.{total_bill:.2f}\")"
   ]
  },
  {
   "cell_type": "markdown",
   "id": "0f983eed-845c-4e56-ba75-91b0255363c0",
   "metadata": {},
   "source": [
    "ans 4"
   ]
  },
  {
   "cell_type": "code",
   "execution_count": 22,
   "id": "132691e4-935f-4e23-9ec0-57b3b3842403",
   "metadata": {},
   "outputs": [
    {
     "name": "stdout",
     "output_type": "stream",
     "text": [
      "using for loop: [2, 4, 5, 6, 8, 10, 12, 14, 15, 16, 18, 20, 22, 24, 25, 26, 28, 30, 32, 34, 35, 36, 38, 40, 42, 44, 45, 46, 48, 50, 52, 54, 55, 56, 58, 60, 62, 64, 65, 66, 68, 70, 72, 74, 75, 76, 78, 80, 82, 84, 85, 86, 88, 90, 92, 94, 95, 96, 98, 100]\n"
     ]
    }
   ],
   "source": [
    "cubes_divisible_by_4_or_5_for = []\n",
    "for num in range(1,101):\n",
    "    cube = num ** 3\n",
    "    if cube % 4 ==0 or cube % 5 ==0:\n",
    "        cubes_divisible_by_4_or_5_for.append(num)\n",
    "        \n",
    "print (\"using for loop:\", cubes_divisible_by_4_or_5_for)\n",
    "   "
   ]
  },
  {
   "cell_type": "code",
   "execution_count": 25,
   "id": "7d9dd764-f3df-4754-be97-d75f9a870eaf",
   "metadata": {},
   "outputs": [
    {
     "name": "stdout",
     "output_type": "stream",
     "text": [
      "Using while loop: [2, 4, 5, 6, 8, 10, 12, 14, 15, 16, 18, 20, 22, 24, 25, 26, 28, 30, 32, 34, 35, 36, 38, 40, 42, 44, 45, 46, 48, 50, 52, 54, 55, 56, 58, 60, 62, 64, 65, 66, 68, 70, 72, 74, 75, 76, 78, 80, 82, 84, 85, 86, 88, 90, 92, 94, 95, 96, 98, 100]\n"
     ]
    }
   ],
   "source": [
    "#using a while loop\n",
    "cubes_divisible_by_4_or_5_while =[]\n",
    "num=1\n",
    "while num <=100:\n",
    "    cube = num ** 3\n",
    "    if cube % 4==0 or cube % 5==0:\n",
    "        cubes_divisible_by_4_or_5_while.append(num)\n",
    "    num +=1\n",
    "    \n",
    "print(\"Using while loop:\", cubes_divisible_by_4_or_5_while)    "
   ]
  },
  {
   "cell_type": "markdown",
   "id": "fbfe3802-1d84-4fc3-a3f4-97e733db1221",
   "metadata": {},
   "source": [
    "ans 5"
   ]
  },
  {
   "cell_type": "code",
   "execution_count": 27,
   "id": "52db17c5-3983-401c-a04d-8f9b6caa2735",
   "metadata": {},
   "outputs": [
    {
     "name": "stdout",
     "output_type": "stream",
     "text": [
      "Number of vowels: 11\n"
     ]
    }
   ],
   "source": [
    "string = \"I want become a data scientist\"\n",
    "vowel_count = 0 \n",
    "\n",
    "vowels= set(\"AEIOUaeiou\")\n",
    "for char in string:\n",
    "    if char in vowels:\n",
    "        vowel_count +=1\n",
    "#print the count vowels\n",
    "print(\"Number of vowels:\",vowel_count)"
   ]
  },
  {
   "cell_type": "code",
   "execution_count": null,
   "id": "45493035-fde1-49c0-969c-22fb422c909b",
   "metadata": {},
   "outputs": [],
   "source": []
  }
 ],
 "metadata": {
  "kernelspec": {
   "display_name": "Python 3 (ipykernel)",
   "language": "python",
   "name": "python3"
  },
  "language_info": {
   "codemirror_mode": {
    "name": "ipython",
    "version": 3
   },
   "file_extension": ".py",
   "mimetype": "text/x-python",
   "name": "python",
   "nbconvert_exporter": "python",
   "pygments_lexer": "ipython3",
   "version": "3.10.8"
  },
  "toc-autonumbering": true,
  "toc-showcode": true,
  "toc-showmarkdowntxt": false
 },
 "nbformat": 4,
 "nbformat_minor": 5
}
