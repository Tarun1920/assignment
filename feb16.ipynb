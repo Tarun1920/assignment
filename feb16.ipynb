{
 "cells": [
  {
   "cell_type": "markdown",
   "id": "58c4bf05-06e8-4ecd-8034-d2359584833b",
   "metadata": {},
   "source": [
    "ans 1"
   ]
  },
  {
   "cell_type": "code",
   "execution_count": null,
   "id": "a3540606-7831-4902-9832-29a67199c656",
   "metadata": {},
   "outputs": [],
   "source": [
    "A database is a structured collection of data that is organized in a way\n",
    "that allows for efficient storage, retrieval, and manipulation of that\n",
    "data. Databases are used in various applications and systems to manage\n",
    "and store data in a systematic and organized manner.\n",
    "\n",
    "\n",
    "SQL Databases:\n",
    "Structured Query Language (SQL): SQL databases are relational databases that use a structured query language (SQL) for defining and manipulating the data. SQL is a standard programming language for managing and manipulating relational databases.\n",
    "\n",
    "Schema: SQL databases have a predefined schema, which means the structure of the data (tables, columns, and relationships) must be defined before data is added to the database.\n",
    "\n",
    "ACID Properties: SQL databases follow the ACID properties (Atomicity, Consistency, Isolation, Durability), which ensure that database transactions are processed reliably.\n",
    "\n",
    "Scalability: SQL databases are generally vertically scalable, meaning you can increase the capacity of a single server by increasing things like CPU, RAM, or SSD.\n",
    "\n",
    "Examples: MySQL, PostgreSQL, SQLite, Oracle, Microsoft SQL Server.\n",
    "\n",
    "\n",
    "NoSQL Databases:\n",
    "Not Only SQL (NoSQL): NoSQL databases are non-relational databases that do not require a fixed schema and are often more flexible. They can store and process unstructured data, and they don't use SQL as their primary query language.\n",
    "\n",
    "Schema-less: NoSQL databases are schema-less or have a dynamic schema, allowing you to insert data without first defining its structure. This flexibility is beneficial for handling semi-structured or unstructured data.\n",
    "\n",
    "CAP Theorem: NoSQL databases are designed based on the CAP theorem (Consistency, Availability, Partition Tolerance), where systems can achieve at most two out of these three guarantees simultaneously.\n",
    "\n",
    "Scalability: NoSQL databases are typically horizontally scalable, meaning you can add more servers to your NoSQL database to handle larger loads.\n",
    "\n",
    "Examples: MongoDB, CouchDB, Cassandra, Redis, Amazon DynamoDB.\n",
    "\n"
   ]
  },
  {
   "cell_type": "markdown",
   "id": "9c7932cd-18f9-42f9-a709-3a1f6910cd6d",
   "metadata": {},
   "source": [
    "ans 2"
   ]
  },
  {
   "cell_type": "code",
   "execution_count": null,
   "id": "ee280fb4-4617-42c9-88ab-6d674d37d2ee",
   "metadata": {},
   "outputs": [],
   "source": [
    "DDL stands for Data Definition Language, and it is a subset of SQL \n",
    "(Structured Query Language) used for defining and managing the \n",
    "structure of a relational database. DDL commands are used to create,\n",
    "modify, and delete database objects like tables, indexes, and\n",
    "constraints. \n",
    "\n",
    "CREATE: The CREATE command is used to create new database objects, such as tables, indexes, and views. It defines the structure and properties of these objects. Here's an example of creating a table in SQL:\n",
    "CREATE TABLE employees (\n",
    "    employee_id INT PRIMARY KEY,\n",
    "    first_name VARCHAR(50),\n",
    "    last_name VARCHAR(50),\n",
    "    hire_date DATE\n",
    ");\n",
    "\n",
    "DROP: The DROP command is used to remove existing database objects. It permanently deletes the specified object from the database\n",
    "\n",
    "ALTER: The ALTER command is used to modify an existing database object's structure, such as adding, deleting, or modifying columns in a table\n",
    "ALTER TABLE employees\n",
    "ADD COLUMN email VARCHAR(100);\n",
    "\n",
    "\n",
    "TRUNCATE: The TRUNCATE command is used to remove all data from a table, but it retains the table structure. It is a fast and efficient way to delete all records from a table without deleting the table itself\n",
    "TRUNCATE TABLE employees;"
   ]
  },
  {
   "cell_type": "markdown",
   "id": "5549a81d-6ce0-4bd5-949a-9c4dfdbd4bbd",
   "metadata": {},
   "source": [
    "ans 3"
   ]
  },
  {
   "cell_type": "code",
   "execution_count": null,
   "id": "edda7a65-bb1b-42e0-9cd3-da02ff560427",
   "metadata": {},
   "outputs": [],
   "source": [
    "DML stands for Data Manipulation Language, and it is a subset of SQL (Structured Query Language) used for manipulating and managing the data stored in a relational database.\n",
    "\n",
    "INSERT: The INSERT command is used to add new records (rows) into a database table. It specifies the values to be inserted into the specified columns of the table.\n",
    "INSERT INTO employees (employee_id, first_name, last_name, hire_date)\n",
    "VALUES (101, 'John', 'Doe', '2023-10-13'); \n",
    "\n",
    "UPDATE: The UPDATE command is used to modify existing records in a database table. It allows you to change the values of specific columns based on certain conditions.\n",
    "UPDATE employees\n",
    "SET last_name = 'Smith'\n",
    "WHERE employee_id = 101;\n",
    "\n",
    "DELETE: The DELETE command is used to remove specific records from a database table based on a condition. It permanently deletes the selected rows from the table. \n",
    "DELETE FROM employees\n",
    "WHERE employee_id = 101;\n",
    "\n"
   ]
  },
  {
   "cell_type": "markdown",
   "id": "68163e4f-ee9a-4c55-93d8-51408752f10a",
   "metadata": {},
   "source": [
    "ans 4"
   ]
  },
  {
   "cell_type": "code",
   "execution_count": null,
   "id": "3e3f816a-8585-46cf-8e32-c29f5013eb83",
   "metadata": {},
   "outputs": [],
   "source": [
    "DQL stands for Data Query Language, and it is a subset of SQL (Structured Query Language) used for querying and retrieving data from a relational database"
   ]
  },
  {
   "cell_type": "code",
   "execution_count": null,
   "id": "6ba5fca6-5abb-4880-9fe3-d8bd607c646f",
   "metadata": {},
   "outputs": [],
   "source": [
    "#example in sql\n",
    "SELECT product_id, product_name, price\n",
    "FROM products\n",
    "WHERE category = 'Electronics'\n",
    "ORDER BY price DESC;"
   ]
  },
  {
   "cell_type": "markdown",
   "id": "58ffebb0-7075-41c3-8855-bab1d186fa29",
   "metadata": {},
   "source": [
    "ans 5"
   ]
  },
  {
   "cell_type": "code",
   "execution_count": null,
   "id": "ad8964f1-e63a-407c-b475-8d3b1b2de3f9",
   "metadata": {},
   "outputs": [],
   "source": [
    "Primary Key:\n",
    "\n",
    "A primary key is a field or combination of fields in a database table that uniquely identifies each record (row) in that table. It serves as a way to ensure data integrity and maintain the uniqueness of records within a table.\n",
    "\n",
    "Uniqueness: Each value in the primary key column(s) must be unique within the table. No two records can share the same primary key value.\n",
    "\n",
    "Uniqueness Enforcement: The database management system enforces the uniqueness of the primary key, preventing the insertion of duplicate values.\n",
    "\n",
    "Not Null: A primary key field cannot contain NULL values, ensuring that each record has a valid and unique identifier.\n",
    "\n",
    "Data Integrity: Primary keys are used to establish relationships between tables and maintain data integrity by preventing orphans and ensuring referential integrity.\n",
    "\n",
    "Indexed: Typically, primary key columns are automatically indexed by the database management system, which can improve query performance.\n",
    "\n",
    "\n",
    "Foreign Key:\n",
    "\n",
    "A foreign key is a field in a database table that is used to establish a link or relationship between two tables. It defines a relationship between data in two different tables, typically by referencing the primary key of another table.\n",
    "\n",
    "References a Primary Key: A foreign key references the primary key of another table. It creates a link between records in one table (the child table) and records in another table (the parent table).\n",
    "\n",
    "Data Integrity: Foreign keys are used to enforce referential integrity, ensuring that data in the child table corresponds to valid data in the parent table.\n",
    "\n",
    "Cascading Actions: You can define actions that occur when data in the referenced table (parent) is modified. Common actions include CASCADE (changes propagate to child table), SET NULL (child field is set to NULL), and SET DEFAULT (child field is set to its default value).\n",
    "\n",
    "Multiple Foreign Keys: A table can have multiple foreign keys, each referencing a different related table.\n",
    "\n",
    "Indexes: Like primary keys, foreign keys are often indexed for improved performance in queries that involve join operations"
   ]
  },
  {
   "cell_type": "markdown",
   "id": "5ffd6319-10d7-42c1-b451-b15c746b9881",
   "metadata": {},
   "source": [
    "ans 6"
   ]
  },
  {
   "cell_type": "code",
   "execution_count": null,
   "id": "75a6acba-d803-4c10-8fae-f87a1ab5698d",
   "metadata": {},
   "outputs": [],
   "source": [
    "To connect Python to a MySQL database, you can use the mysql-connector-python library, which provides a Python interface for MySQL databases. You can install this library using pip if you haven't already:\n",
    "pip install mysql-connector-python"
   ]
  },
  {
   "cell_type": "code",
   "execution_count": 3,
   "id": "c54ba7db-d550-428e-8756-2d5b5d61a8db",
   "metadata": {},
   "outputs": [
    {
     "ename": "ModuleNotFoundError",
     "evalue": "No module named 'mysql'",
     "output_type": "error",
     "traceback": [
      "\u001b[0;31m---------------------------------------------------------------------------\u001b[0m",
      "\u001b[0;31mModuleNotFoundError\u001b[0m                       Traceback (most recent call last)",
      "Cell \u001b[0;32mIn[3], line 1\u001b[0m\n\u001b[0;32m----> 1\u001b[0m \u001b[38;5;28;01mimport\u001b[39;00m \u001b[38;5;21;01mmysql\u001b[39;00m\u001b[38;5;21;01m.\u001b[39;00m\u001b[38;5;21;01mconnector\u001b[39;00m\n\u001b[1;32m      3\u001b[0m \u001b[38;5;66;03m# Establish a connection to the MySQL database\u001b[39;00m\n\u001b[1;32m      4\u001b[0m connection \u001b[38;5;241m=\u001b[39m mysql\u001b[38;5;241m.\u001b[39mconnector\u001b[38;5;241m.\u001b[39mconnect(\n\u001b[1;32m      5\u001b[0m    host\u001b[38;5;241m=\u001b[39m\u001b[38;5;124m\"\u001b[39m\u001b[38;5;124myour_host\u001b[39m\u001b[38;5;124m\"\u001b[39m,\n\u001b[1;32m      6\u001b[0m    user\u001b[38;5;241m=\u001b[39m\u001b[38;5;124m\"\u001b[39m\u001b[38;5;124myour_user\u001b[39m\u001b[38;5;124m\"\u001b[39m,\n\u001b[1;32m      7\u001b[0m    password\u001b[38;5;241m=\u001b[39m\u001b[38;5;124m\"\u001b[39m\u001b[38;5;124myour_password\u001b[39m\u001b[38;5;124m\"\u001b[39m,\n\u001b[1;32m      8\u001b[0m    database\u001b[38;5;241m=\u001b[39m\u001b[38;5;124m\"\u001b[39m\u001b[38;5;124myour_database\u001b[39m\u001b[38;5;124m\"\u001b[39m\n\u001b[1;32m      9\u001b[0m )\n",
      "\u001b[0;31mModuleNotFoundError\u001b[0m: No module named 'mysql'"
     ]
    }
   ],
   "source": [
    " import mysql.connector\n",
    "\n",
    "# Establish a connection to the MySQL database\n",
    "connection = mysql.connector.connect(\n",
    "    host=\"your_host\",\n",
    "    user=\"your_user\",\n",
    "    password=\"your_password\",\n",
    "    database=\"your_database\"\n",
    ")\n",
    "\n",
    "# Create a cursor object to interact with the database\n",
    "cursor = connection.cursor()\n",
    "\n",
    "# Example 1: Execute a SELECT query\n",
    "cursor.execute(\"SELECT * FROM your_table\")\n",
    "result = cursor.fetchall()  # Retrieve all rows from the query result\n",
    "\n",
    "for row in result:\n",
    "    print(row)\n",
    "\n",
    "# Example 2: Execute an INSERT query\n",
    "insert_query = \"INSERT INTO your_table (column1, column2) VALUES (%s, %s)\"\n",
    "values = (\"value1\", \"value2\")\n",
    "cursor.execute(insert_query, values)\n",
    "\n",
    "# Example 3: Execute an UPDATE query\n",
    "update_query = \"UPDATE your_table SET column1 = %s WHERE column2 = %s\"\n",
    "new_value = \"new_value\"\n",
    "old_value = \"value2\"\n",
    "cursor.execute(update_query, (new_value, old_value))\n",
    "\n",
    "# Example 4: Execute a DELETE query\n",
    "delete_query = \"DELETE FROM your_table WHERE column1 = %s\"\n",
    "value_to_delete = \"value1\"\n",
    "cursor.execute(delete_query, (value_to_delete,))\n",
    "\n",
    "# Commit the changes to the database\n",
    "connection.commit()\n",
    "\n",
    "# Close the cursor and the database connection\n",
    "cursor.close()\n",
    "connection.close()"
   ]
  },
  {
   "cell_type": "markdown",
   "id": "178d0324-afcf-4fc6-a0aa-7750cc93b83b",
   "metadata": {},
   "source": [
    "ans 7"
   ]
  },
  {
   "cell_type": "code",
   "execution_count": null,
   "id": "f9a6fa4b-5483-4273-b1f2-ea5255270fb2",
   "metadata": {},
   "outputs": [],
   "source": [
    "The order of execution of SQL clauses in an SQL query is typically as follows:\n",
    "\n",
    "FROM: The FROM clause specifies the tables from which data will be retrieved. It's the starting point of the query, and it identifies the source tables.\n",
    "\n",
    "WHERE: The WHERE clause is used to filter the rows that meet a specified condition or criteria. It operates on the rows selected from the tables defined in the FROM clause.\n",
    "\n",
    "GROUP BY: The GROUP BY clause is used to group rows with similar values into summary rows. It is often used with aggregate functions (e.g., COUNT, SUM, AVG) to perform operations on each group of rows.\n",
    "\n",
    "HAVING: The HAVING clause is used to filter the grouped rows after the GROUP BY clause. It acts as a filter on the result of the grouping and is typically used with aggregate functions.\n",
    "\n",
    "SELECT: The SELECT clause specifies which columns from the result set should be included in the output. It operates on the rows that have passed through the previous clauses.\n",
    "\n",
    "DISTINCT: The DISTINCT keyword is used to eliminate duplicate rows from the result set.\n",
    "\n",
    "ORDER BY: The ORDER BY clause is used to sort the result set by one or more columns in ascending or descending order. It is applied after all previous operations have been performed.\n",
    "\n",
    "LIMIT/OFFSET: The LIMIT and OFFSET clauses are used to limit the number of rows returned and to specify the starting point for the result set, often used for pagination.\n",
    "\n",
    "UNION/INTERSECT/EXCEPT: These set operations can be used to combine the results of two or more queries. The order of execution of these clauses depends on the specific query and the desired outcome"
   ]
  }
 ],
 "metadata": {
  "kernelspec": {
   "display_name": "Python 3 (ipykernel)",
   "language": "python",
   "name": "python3"
  },
  "language_info": {
   "codemirror_mode": {
    "name": "ipython",
    "version": 3
   },
   "file_extension": ".py",
   "mimetype": "text/x-python",
   "name": "python",
   "nbconvert_exporter": "python",
   "pygments_lexer": "ipython3",
   "version": "3.10.8"
  }
 },
 "nbformat": 4,
 "nbformat_minor": 5
}
