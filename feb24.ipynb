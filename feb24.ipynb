{
 "cells": [
  {
   "cell_type": "code",
   "execution_count": null,
   "id": "5329b97f-f751-4a01-bbcb-0a2c13d5cfbd",
   "metadata": {},
   "outputs": [],
   "source": [
    "ans 1"
   ]
  },
  {
   "cell_type": "code",
   "execution_count": null,
   "id": "d1936f38-b34c-4b00-9285-107b640bd5f3",
   "metadata": {},
   "outputs": [],
   "source": [
    "Read Data: Pandas can be used to read data from various file formats such as CSV, Excel, SQL databases, and more.\n",
    "import pandas as pd\n",
    "\n",
    "# Reading a CSV file into a DataFrame\n",
    "df = pd.read_csv('data.csv')\n",
    "\n",
    "\n",
    "head(): This function is used to display the first few rows of a DataFrame to get a quick overview of the data.\n",
    "# Display the first 5 rows of the DataFrame\n",
    "df.head()\n",
    "\n",
    "describe(): It provides summary statistics of the numerical columns in a DataFrame, such as mean, standard deviation, minimum, maximum, etc.\n",
    "# Get summary statistics for numeric columns\n",
    "df.describe()\n",
    "\n",
    "groupby(): Pandas can be used to group data based on one or more columns and perform operations on these groups. For example, you can calculate the mean of a specific column for each group.\n",
    "# Group data by 'Category' and calculate the mean of 'Price' for each category\n",
    "df.groupby('Category')['Price'].mean()\n",
    "\n",
    "plot(): Pandas provides basic plotting functionality for DataFrames. You can create various types of plots, including line plots, bar charts, and scatter plots.\n",
    "# Create a simple line plot of a DataFrame\n",
    "df['Date'].value_counts().plot(kind='line')\n"
   ]
  },
  {
   "cell_type": "code",
   "execution_count": null,
   "id": "09ea2be5-cb08-4b5a-be08-f1fe2e9bb148",
   "metadata": {},
   "outputs": [],
   "source": [
    "ans 2"
   ]
  },
  {
   "cell_type": "code",
   "execution_count": 1,
   "id": "4a82e3a9-fce6-47cb-bd10-6d8c15f713c8",
   "metadata": {},
   "outputs": [
    {
     "name": "stdout",
     "output_type": "stream",
     "text": [
      "    A   B   C\n",
      "1  10  40  70\n",
      "3  20  50  80\n",
      "5  30  60  90\n"
     ]
    }
   ],
   "source": [
    "import pandas as pd\n",
    "\n",
    "def reindex_with_custom_index(df):\n",
    "    # Create a custom index array starting from 1 and incrementing by 2\n",
    "    custom_index = range(1, 2 * len(df) + 1, 2)\n",
    "\n",
    "    # Set the custom index to the DataFrame\n",
    "    df = df.set_index(pd.Index(custom_index))\n",
    "\n",
    "    return df\n",
    "\n",
    "# Example usage:\n",
    "data = {'A': [10, 20, 30], 'B': [40, 50, 60], 'C': [70, 80, 90]}\n",
    "df = pd.DataFrame(data)\n",
    "\n",
    "# Re-index the DataFrame\n",
    "df = reindex_with_custom_index(df)\n",
    "print(df)"
   ]
  },
  {
   "cell_type": "code",
   "execution_count": null,
   "id": "1f1ea634-2013-4439-a87b-1c6b5bd976cd",
   "metadata": {},
   "outputs": [],
   "source": [
    "ans 3"
   ]
  },
  {
   "cell_type": "code",
   "execution_count": 3,
   "id": "97fbd0a8-f2b8-41cb-a4c6-b76c70ead299",
   "metadata": {},
   "outputs": [
    {
     "name": "stdout",
     "output_type": "stream",
     "text": [
      "Sum of the first three values: 60\n"
     ]
    }
   ],
   "source": [
    "import pandas as pd\n",
    "\n",
    "def calculate_sum_of_first_three_values(df):\n",
    "    if 'Values' in df.columns:\n",
    "        first_three_values = df['Values'].head(3)  # Select the first three values\n",
    "        total = first_three_values.sum()  # Calculate their sum\n",
    "        print(\"Sum of the first three values:\", total)\n",
    "    else:\n",
    "        print(\"The 'Values' column does not exist in the DataFrame.\")\n",
    "\n",
    "# Example usage:\n",
    "data = {'Values': [10, 20, 30, 40, 50]}\n",
    "df = pd.DataFrame(data)\n",
    "\n",
    "# Calculate and print the sum of the first three values\n",
    "calculate_sum_of_first_three_values(df)\n"
   ]
  },
  {
   "cell_type": "code",
   "execution_count": null,
   "id": "82de77b3-fc42-4298-aaf1-0f8aaba1ac70",
   "metadata": {},
   "outputs": [],
   "source": [
    "ans 4"
   ]
  },
  {
   "cell_type": "code",
   "execution_count": 5,
   "id": "5058f14a-8ec3-480d-926d-fc35c1c91d47",
   "metadata": {},
   "outputs": [
    {
     "name": "stdout",
     "output_type": "stream",
     "text": [
      "                         Text  Word_Count\n",
      "0  This is a sample sentence.           5\n",
      "1            Pandas is great!           3\n",
      "2   Data analysis with Python           4\n"
     ]
    }
   ],
   "source": [
    "import pandas as pd\n",
    "\n",
    "def count_words(text):\n",
    "    # Split the text by spaces to count words\n",
    "    words = text.split()\n",
    "    return len(words)\n",
    "\n",
    "def add_word_count_column(df):\n",
    "    # Apply the count_words function to each row of the 'Text' column\n",
    "    df['Word_Count'] = df['Text'].apply(count_words)\n",
    "\n",
    "# Example usage:\n",
    "data = {'Text': [\"This is a sample sentence.\", \"Pandas is great!\", \"Data analysis with Python\"]}\n",
    "df = pd.DataFrame(data)\n",
    "\n",
    "# Add the 'Word_Count' column to the DataFrame\n",
    "add_word_count_column(df)\n",
    "\n",
    "print(df)"
   ]
  },
  {
   "cell_type": "code",
   "execution_count": null,
   "id": "948b4424-d3b5-4bce-95a0-18b1b2731c36",
   "metadata": {},
   "outputs": [],
   "source": [
    "ans 5"
   ]
  },
  {
   "cell_type": "code",
   "execution_count": null,
   "id": "aa852467-ab44-4ad0-9d4a-392b602a0386",
   "metadata": {},
   "outputs": [],
   "source": [
    "DataFrame.size:\n",
    "\n",
    "DataFrame.size returns the total number of elements (cells) in the DataFrame. It is equivalent to the product of the number of rows and the number of columns in the DataFrame.\n",
    "It provides the count of all individual data points in the DataFrame, including both data values and missing values (NaN).\n",
    "\n",
    "import pandas as pd\n",
    "\n",
    "data = {'A': [1, 2, 3], 'B': [4, 5, 6]}\n",
    "df = pd.DataFrame(data)\n",
    "\n",
    "print(df.size)  # This will output 6, as there are 3 rows and 2 columns.\n",
    "\n",
    "DataFrame.shape:\n",
    "\n",
    "DataFrame.shape returns a tuple that represents the dimensions of the DataFrame, where the first element of the tuple is the number of rows, and the second element is the number of columns.\n",
    "It provides a concise summary of the structure of the DataFrame.\n",
    "import pandas as pd\n",
    "\n",
    "data = {'A': [1, 2, 3], 'B': [4, 5, 6]}\n",
    "df = pd.DataFrame(data)\n",
    "\n",
    "print(df.shape)  # This will output (3, 2), indicating 3 rows and 2 columns.\n"
   ]
  },
  {
   "cell_type": "code",
   "execution_count": null,
   "id": "566fd2d8-37f5-4e7f-a42a-9650a3ca9317",
   "metadata": {},
   "outputs": [],
   "source": [
    "ans 7"
   ]
  },
  {
   "cell_type": "code",
   "execution_count": 6,
   "id": "d6e59643-ed99-4599-9825-b3f8689ef771",
   "metadata": {},
   "outputs": [
    {
     "name": "stdout",
     "output_type": "stream",
     "text": [
      "                    Email    Username\n",
      "0    john.doe@example.com    john.doe\n",
      "1  jane.smith@example.org  jane.smith\n",
      "2     user123@example.net     user123\n"
     ]
    }
   ],
   "source": [
    "import pandas as pd\n",
    "\n",
    "def extract_username(df):\n",
    "    # Split the 'Email' column at '@' and select the first part as 'Username'\n",
    "    df['Username'] = df['Email'].str.split('@').str[0]\n",
    "\n",
    "# Example usage:\n",
    "data = {'Email': ['john.doe@example.com', 'jane.smith@example.org', 'user123@example.net']}\n",
    "df = pd.DataFrame(data)\n",
    "\n",
    "# Extract and add the 'Username' column to the DataFrame\n",
    "extract_username(df)\n",
    "\n",
    "# Print the DataFrame with the new 'Username' column\n",
    "print(df)\n"
   ]
  },
  {
   "cell_type": "code",
   "execution_count": null,
   "id": "1ff2c8e1-5055-43b9-9128-7e1d86d7645e",
   "metadata": {},
   "outputs": [],
   "source": [
    "ans 8"
   ]
  },
  {
   "cell_type": "code",
   "execution_count": 7,
   "id": "b990c995-ea1a-4697-9b28-83e65e5c28ee",
   "metadata": {},
   "outputs": [
    {
     "name": "stdout",
     "output_type": "stream",
     "text": [
      "    A  B   C\n",
      "5  12  7  49\n"
     ]
    }
   ],
   "source": [
    "import pandas as pd\n",
    "\n",
    "def select_rows(df):\n",
    "    selected_rows = df[(df['A'] > 5) & (df['B'] < 10)]\n",
    "    return selected_rows\n",
    "\n",
    "# Example usage:\n",
    "data = {'A': [0, 18, 2, 3, 4, 12], 'B': [3, 27, 9, 35, 12, 7], 'C': [51, 27, 94, 235, 912, 49]}\n",
    "df = pd.DataFrame(data)\n",
    "\n",
    "# Select rows based on the criteria\n",
    "selected_df = select_rows(df)\n",
    "\n",
    "# Print the selected DataFrame\n",
    "print(selected_df)"
   ]
  },
  {
   "cell_type": "code",
   "execution_count": null,
   "id": "af8ee595-bd7c-4fb0-bbec-c07abe26f5ff",
   "metadata": {},
   "outputs": [],
   "source": [
    "ans 9"
   ]
  },
  {
   "cell_type": "code",
   "execution_count": 8,
   "id": "cecf2c5e-0764-4d17-a305-44de60197325",
   "metadata": {},
   "outputs": [
    {
     "name": "stdout",
     "output_type": "stream",
     "text": [
      "Mean: 30.0\n",
      "Median: 30.0\n",
      "Standard Deviation: 15.811388300841896\n"
     ]
    }
   ],
   "source": [
    "import pandas as pd\n",
    "\n",
    "def calculate_stats(df):\n",
    "    # Calculate the mean, median, and standard deviation of the 'Values' column\n",
    "    mean_value = df['Values'].mean()\n",
    "    median_value = df['Values'].median()\n",
    "    std_deviation = df['Values'].std()\n",
    "    \n",
    "    return mean_value, median_value, std_deviation\n",
    "\n",
    "# Example usage:\n",
    "data = {'Values': [10, 20, 30, 40, 50]}\n",
    "df = pd.DataFrame(data)\n",
    "\n",
    "# Calculate the mean, median, and standard deviation\n",
    "mean, median, std = calculate_stats(df)\n",
    "\n",
    "# Print the results\n",
    "print(\"Mean:\", mean)\n",
    "print(\"Median:\", median)\n",
    "print(\"Standard Deviation:\", std)"
   ]
  },
  {
   "cell_type": "code",
   "execution_count": null,
   "id": "fd8d3a97-f293-4884-bd03-f629165b24de",
   "metadata": {},
   "outputs": [],
   "source": [
    "ans 10"
   ]
  },
  {
   "cell_type": "code",
   "execution_count": 9,
   "id": "ea727228-f8c2-4639-b6b3-47143df2782c",
   "metadata": {},
   "outputs": [
    {
     "name": "stdout",
     "output_type": "stream",
     "text": [
      "         Date  Sales  MovingAverage\n",
      "0  2023-10-01     10           10.0\n",
      "1  2023-10-02     15           12.5\n",
      "2  2023-10-03     20           15.0\n",
      "3  2023-10-04     25           17.5\n",
      "4  2023-10-05     30           20.0\n",
      "5  2023-10-06     35           22.5\n",
      "6  2023-10-07     40           25.0\n"
     ]
    }
   ],
   "source": [
    "import pandas as pd\n",
    "\n",
    "def calculate_moving_average(df):\n",
    "    # Sort the DataFrame by 'Date' if it's not already sorted\n",
    "    df = df.sort_values(by='Date')\n",
    "    \n",
    "    # Calculate the moving average with a 7-day window\n",
    "    df['MovingAverage'] = df['Sales'].rolling(window=7, min_periods=1).mean()\n",
    "    \n",
    "    return df\n",
    "\n",
    "# Example usage:\n",
    "data = {'Date': ['2023-10-01', '2023-10-02', '2023-10-03', '2023-10-04', '2023-10-05', '2023-10-06', '2023-10-07'],\n",
    "        'Sales': [10, 15, 20, 25, 30, 35, 40]}\n",
    "df = pd.DataFrame(data)\n",
    "\n",
    "# Calculate the moving average and add the 'MovingAverage' column\n",
    "df = calculate_moving_average(df)\n",
    "\n",
    "# Print the DataFrame with the new 'MovingAverage' column\n",
    "print(df)\n"
   ]
  },
  {
   "cell_type": "code",
   "execution_count": null,
   "id": "37cd9ff0-2601-4894-9ecf-9d2f23c87417",
   "metadata": {},
   "outputs": [],
   "source": [
    "ans 11"
   ]
  },
  {
   "cell_type": "code",
   "execution_count": 10,
   "id": "c2710bc3-d15c-4b3b-987c-d5ce927fd9a8",
   "metadata": {},
   "outputs": [
    {
     "name": "stdout",
     "output_type": "stream",
     "text": [
      "        Date    Weekday\n",
      "0 2023-01-01     Sunday\n",
      "1 2023-01-02     Monday\n",
      "2 2023-01-03    Tuesday\n",
      "3 2023-01-04  Wednesday\n",
      "4 2023-01-05   Thursday\n"
     ]
    }
   ],
   "source": [
    "import pandas as pd\n",
    "\n",
    "def add_weekday_column(df):\n",
    "    # Convert the 'Date' column to a datetime data type\n",
    "    df['Date'] = pd.to_datetime(df['Date'])\n",
    "    \n",
    "    # Use dt.strftime to extract weekday names and store them in the 'Weekday' column\n",
    "    df['Weekday'] = df['Date'].dt.strftime('%A')\n",
    "\n",
    "# Example usage:\n",
    "data = {'Date': ['2023-01-01', '2023-01-02', '2023-01-03', '2023-01-04', '2023-01-05']}\n",
    "df = pd.DataFrame(data)\n",
    "\n",
    "# Add the 'Weekday' column to the DataFrame\n",
    "add_weekday_column(df)\n",
    "\n",
    "# Print the DataFrame with the new 'Weekday' column\n",
    "print(df)"
   ]
  },
  {
   "cell_type": "code",
   "execution_count": null,
   "id": "0f5d0702-1f85-456e-b6b5-b2017997f0a6",
   "metadata": {},
   "outputs": [],
   "source": []
  }
 ],
 "metadata": {
  "kernelspec": {
   "display_name": "Python 3 (ipykernel)",
   "language": "python",
   "name": "python3"
  },
  "language_info": {
   "codemirror_mode": {
    "name": "ipython",
    "version": 3
   },
   "file_extension": ".py",
   "mimetype": "text/x-python",
   "name": "python",
   "nbconvert_exporter": "python",
   "pygments_lexer": "ipython3",
   "version": "3.10.8"
  }
 },
 "nbformat": 4,
 "nbformat_minor": 5
}
