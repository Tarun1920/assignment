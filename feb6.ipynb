{
 "cells": [
  {
   "cell_type": "markdown",
   "id": "0e9b6382-40ce-4233-91e0-399d2c762f2a",
   "metadata": {},
   "source": [
    "ans 1"
   ]
  },
  {
   "cell_type": "code",
   "execution_count": 1,
   "id": "a6580356-7057-4a2b-bfcf-e56971d32527",
   "metadata": {},
   "outputs": [],
   "source": [
    "from functools import reduce\n",
    "import operator\n",
    "    \n",
    "def flatten_and_multiply (lst):\n",
    "    def flatten(input_list):\n",
    "         flat_list =[]\n",
    "    for item in input_list:\n",
    "            if isinstance(item,(list,tuple,set)):\n",
    "                flat_list.extend(flatten(item))\n",
    "            elif isinstance(item,dict):\n",
    "                for key,value in item.items():\n",
    "                    if isinstance(value,(int,float)):\n",
    "                        flat_list.append(value)\n",
    "                    elif isinstance(key,(int,float)):\n",
    "                        flat_list.append(key)\n",
    "                    elif isinstance(value,(list,tuple,set)):\n",
    "                        flat_list.extend(flatten(value))\n",
    "                    elif isinstance(item,(int,float)):\n",
    "                        flat_list.append(item)\n",
    "            return flat_list\n",
    "        \n",
    "    flattened_list = flatten(lst)\n",
    "        \n",
    "    product = 1\n",
    "    for num in flattened_list:\n",
    "        product *= num\n",
    "            \n",
    "        return product\n",
    "    #test the function with your provding list\n",
    "    list1 = [1,2,3,4,[44,55,66,True], False,(34,56,78,89,34),{1,2,3,3,2,1}, {1:34, \"key2\": [55,67,78,89],4: (45,22,61,34)},[56,'data science'],'Machine Learning']\n",
    "    result = flatten_and_multiply(list1)\n",
    "    print(result)\n",
    "         \n"
   ]
  },
  {
   "cell_type": "markdown",
   "id": "73c38e23-822e-4e87-915c-f84952dbb63b",
   "metadata": {},
   "source": [
    "ans 2"
   ]
  },
  {
   "cell_type": "code",
   "execution_count": 41,
   "id": "df8d7b74-cabc-4c40-ba6e-eb4ce6430e75",
   "metadata": {},
   "outputs": [
    {
     "ename": "IndentationError",
     "evalue": "unexpected indent (161245044.py, line 11)",
     "output_type": "error",
     "traceback": [
      "\u001b[0;36m  Cell \u001b[0;32mIn[41], line 11\u001b[0;36m\u001b[0m\n\u001b[0;31m    encrypted_message = ''\u001b[0m\n\u001b[0m    ^\u001b[0m\n\u001b[0;31mIndentationError\u001b[0m\u001b[0;31m:\u001b[0m unexpected indent\n"
     ]
    }
   ],
   "source": [
    "def encrypt_message(message):\n",
    "     char_mapping = {\n",
    "         'a': 'z', 'b':'y','c':'x','d':'w','e':'v','f':'u',\n",
    "         'g': 't', 'h':'s','i':'r','j':'q','k':'p','l':'o',\n",
    "         'm': 'n', 'n':'m','o':'l','p':'k','q':'j','r':'i',\n",
    "         's': 'h', 't':'g','u':'f','v':'e','w':'d','x':'c',\n",
    "         'y': 'b', 'z':'a',' ':'$'\n",
    "    }\n",
    "message = message.lower()\n",
    "  #encrypt the message character by character\n",
    "     encrypted_message = ''\n",
    "for char in message:\n",
    "        if char in char_mapping:\n",
    "            encrypt_message += char_mapping[char]\n",
    "        else:\n",
    "            encrypted_message += char #keep punctuation marks unchanged\n",
    "                \n",
    "return encrypted_message\n",
    "\n",
    "  # input sentence\n",
    "input_sentence = \"i want to become a data scientist\"\n",
    "        \n",
    "  # encrypt the input message\n",
    "encrypted_sentence = encrypt_message( input_sentence)\n",
    "print (encrypted_sentence)   #convert the input message to lowercase\n",
    "     message = message.lower()\n",
    "        \n",
    "     \n",
    "                    "
   ]
  },
  {
   "cell_type": "code",
   "execution_count": null,
   "id": "69d6b7bf-cde2-47f5-a876-54987c7e97b0",
   "metadata": {},
   "outputs": [],
   "source": []
  },
  {
   "cell_type": "code",
   "execution_count": null,
   "id": "57ef773e-ea6d-44f1-8ad4-9194cb28a923",
   "metadata": {},
   "outputs": [],
   "source": []
  },
  {
   "cell_type": "code",
   "execution_count": null,
   "id": "7065b038-75d7-4ca8-a5b4-725806162d59",
   "metadata": {},
   "outputs": [],
   "source": []
  }
 ],
 "metadata": {
  "kernelspec": {
   "display_name": "Python 3 (ipykernel)",
   "language": "python",
   "name": "python3"
  },
  "language_info": {
   "codemirror_mode": {
    "name": "ipython",
    "version": 3
   },
   "file_extension": ".py",
   "mimetype": "text/x-python",
   "name": "python",
   "nbconvert_exporter": "python",
   "pygments_lexer": "ipython3",
   "version": "3.10.8"
  }
 },
 "nbformat": 4,
 "nbformat_minor": 5
}
