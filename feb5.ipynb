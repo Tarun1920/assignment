{
 "cells": [
  {
   "cell_type": "markdown",
   "id": "ec18d913-3be7-47a6-b1dd-83f141218147",
   "metadata": {},
   "source": [
    "ans 1"
   ]
  },
  {
   "cell_type": "markdown",
   "id": "64bf2660-3820-4ffa-a36f-457f2e5070fd",
   "metadata": {},
   "source": [
    "class: a class is a blueprint or a template for creating objects. it defines the properties \n",
    "and behaviours that objects of that class will have .\n",
    "example\n"
   ]
  },
  {
   "cell_type": "code",
   "execution_count": null,
   "id": "230c329b-8231-46c4-848b-027c4347a681",
   "metadata": {},
   "outputs": [],
   "source": [
    "class car:\n",
    "    def __init__(self,make,model,year):\n",
    "        self.make = make \n",
    "        self.model = model\n",
    "        self.year = year\n",
    "        self.speed= speed\n",
    "        \n",
    "        def accelerate (self):\n",
    "            self.speed +=10\n",
    "            \n",
    "            #method to brake the car\n",
    "        def brake(self):\n",
    "            self.speed -=5\n",
    "            \n",
    "        def get_speed(self):\n",
    "            return self.speed\n",
    "        \n",
    "        "
   ]
  },
  {
   "cell_type": "markdown",
   "id": "0e0d32c6-c6aa-4c78-8a42-d7b0917e701b",
   "metadata": {},
   "source": [
    "object:\n",
    "    an object is an instance of a class .its a concrete tangible\n",
    "    representation of the class blueprint.\n",
    "    example:"
   ]
  },
  {
   "cell_type": "code",
   "execution_count": 3,
   "id": "416bccca-682c-442a-8c38-3646fee51c3b",
   "metadata": {},
   "outputs": [
    {
     "ename": "NameError",
     "evalue": "name 'Car' is not defined",
     "output_type": "error",
     "traceback": [
      "\u001b[0;31m---------------------------------------------------------------------------\u001b[0m",
      "\u001b[0;31mNameError\u001b[0m                                 Traceback (most recent call last)",
      "Cell \u001b[0;32mIn[3], line 1\u001b[0m\n\u001b[0;32m----> 1\u001b[0m car1\u001b[38;5;241m=\u001b[39m \u001b[43mCar\u001b[49m(\u001b[38;5;124m\"\u001b[39m\u001b[38;5;124mtoyota\u001b[39m\u001b[38;5;124m\"\u001b[39m,\u001b[38;5;124m\"\u001b[39m\u001b[38;5;124mcamry\u001b[39m\u001b[38;5;124m\"\u001b[39m,\u001b[38;5;241m2022\u001b[39m)\n\u001b[1;32m      2\u001b[0m car2\u001b[38;5;241m=\u001b[39m Car(\u001b[38;5;124m\"\u001b[39m\u001b[38;5;124mford\u001b[39m\u001b[38;5;124m\"\u001b[39m,\u001b[38;5;124m\"\u001b[39m\u001b[38;5;124mmustang\u001b[39m\u001b[38;5;124m\"\u001b[39m,\u001b[38;5;241m2023\u001b[39m)\n\u001b[1;32m      4\u001b[0m \u001b[38;5;66;03m#using the methods to interact with the objects\u001b[39;00m\n",
      "\u001b[0;31mNameError\u001b[0m: name 'Car' is not defined"
     ]
    }
   ],
   "source": [
    "car1= Car(\"toyota\",\"camry\",2022)\n",
    "car2= Car(\"ford\",\"mustang\",2023)\n",
    "\n",
    "#using the methods to interact with the objects\n",
    "car1.accelerate()\n",
    "car2.accelerate()\n",
    "car2.accelerate()\n",
    "car2.brake()\n",
    "\n",
    "#getting the current speed of each car\n",
    "speed1 = car1.get_speed()\n",
    "speed2 = car2.get_speed()\n",
    "\n",
    "print(f\"Car 1: {speed1} mph\")\n",
    "print(f\"Car 2: {speed2} mph\")"
   ]
  },
  {
   "cell_type": "markdown",
   "id": "17393658-0879-4b18-b0f3-41d98fcfa528",
   "metadata": {},
   "source": [
    "ans 2"
   ]
  },
  {
   "cell_type": "markdown",
   "id": "ba461e1d-cad6-4d1e-9fcb-3cb3e7a39f27",
   "metadata": {},
   "source": [
    "1. EncapsulaTION 2.Inheritance \n",
    "3.Polymorphism 4. Abstraction"
   ]
  },
  {
   "cell_type": "markdown",
   "id": "93b31cad-3eb6-4463-b1bf-089395979370",
   "metadata": {},
   "source": [
    "ans 3"
   ]
  },
  {
   "cell_type": "markdown",
   "id": "a31a537e-c68d-4d07-ab3e-ef4008f056e7",
   "metadata": {},
   "source": [
    "the --init__() function ,often reffered as the \n",
    "\"constructor\" is a special method in python used \n",
    "to initialize the atteibutes of an object when it is create from a class . it ia automatically called when an object is  instantiated \n",
    "frrom a class ,it allows yout to setup the initaial state or properties of the object."
   ]
  },
  {
   "cell_type": "markdown",
   "id": "869e4fbc-22df-4268-80fb-418b83542969",
   "metadata": {},
   "source": [
    "class Person:\n",
    "    \n",
    "    def __init__(self, name, age):\n",
    "        self.name = name\n",
    "        self.age = age\n",
    "        \n",
    "    def introduce(self):\n",
    "        print(f\"Hi I am {self.name}, and i am {self.age} years old.\")\n",
    "        \n",
    "        #creating person objects\n",
    "    person1 = Person(\"Alice\",30)\n",
    "    person2 = Person(\"Bob\",25)\n",
    "    \n",
    "    #using the objects and their attributes\n",
    "    person1.introduce()\n",
    "    person2.introduce()"
   ]
  },
  {
   "cell_type": "markdown",
   "id": "5f6d9624-c69b-4e4c-ab94-29b46505cf94",
   "metadata": {},
   "source": [
    "ans 4\n",
    "In(oops) ,the 'self' keyword is used to refer to the instance of the class . we use ' self' as the firdt parameter of insance method,\n",
    "1. accessing object attributes\n",
    "2.maintaining state \n",
    "3.method invocation"
   ]
  },
  {
   "cell_type": "markdown",
   "id": "63f4297c-c5b5-407e-85de-faa8ccdb0a8b",
   "metadata": {},
   "source": [
    "ans 5\n",
    "It is a fundamental concept in(oops) thats allows \n",
    "us to create a new class (called a sub class or divided class)\n",
    "based on existing class .inheritance promotes code reusability by allowing \n",
    "the sub class to inhert the attributes and methods .\n",
    "1. single inheritance\n",
    "2.multiple inheritance\n",
    "3. multilevel inheritance\n",
    "4.hierarchical inheritance\n",
    "5.hybrid inheritance"
   ]
  },
  {
   "cell_type": "code",
   "execution_count": 8,
   "id": "9c5008dc-b479-44cc-a45f-6b468d174d58",
   "metadata": {},
   "outputs": [],
   "source": [
    "class Animal:\n",
    "    def speak(self):\n",
    "        pass\n",
    "class Dog(Animal):\n",
    "    def speak(self):\n",
    "        return \"woof!\"\n",
    "class Cat(Animal):\n",
    "    def speak(self):\n",
    "        return \"meow!\""
   ]
  },
  {
   "cell_type": "code",
   "execution_count": 9,
   "id": "293ccf69-aec6-41c8-b041-55b8c9a7753a",
   "metadata": {},
   "outputs": [],
   "source": [
    "class A:\n",
    "    def method_A(self):\n",
    "        pass\n",
    "\n",
    "class B:\n",
    "    def method_B(self):\n",
    "        pass\n",
    "class C(A ,B):\n",
    "    def method_C(self):\n",
    "        pass"
   ]
  },
  {
   "cell_type": "code",
   "execution_count": 10,
   "id": "fe118d5f-7614-4fb9-804d-9e2ee667f2b0",
   "metadata": {},
   "outputs": [],
   "source": [
    "class Grandparent:\n",
    "    def greet(self):\n",
    "        return\"hello from Grandparent\"\n",
    "class Parent(Grandparent):\n",
    "    def greet(self):\n",
    "        return \"heloo from Parent\"\n",
    "class Child(Parent):\n",
    "    def greet(self):\n",
    "        return \"hello from Child \"\n",
    "    "
   ]
  },
  {
   "cell_type": "code",
   "execution_count": null,
   "id": "224ed6ed-d01d-4fdb-b509-d14a7b0f2742",
   "metadata": {},
   "outputs": [],
   "source": [
    "class A:\n",
    "    pass\n",
    "\n",
    "class B(A):\n",
    "    pass\n",
    "class C(A):\n",
    "    pass\n",
    "class "
   ]
  }
 ],
 "metadata": {
  "kernelspec": {
   "display_name": "Python 3 (ipykernel)",
   "language": "python",
   "name": "python3"
  },
  "language_info": {
   "codemirror_mode": {
    "name": "ipython",
    "version": 3
   },
   "file_extension": ".py",
   "mimetype": "text/x-python",
   "name": "python",
   "nbconvert_exporter": "python",
   "pygments_lexer": "ipython3",
   "version": "3.10.8"
  }
 },
 "nbformat": 4,
 "nbformat_minor": 5
}
