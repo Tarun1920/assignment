{
 "cells": [
  {
   "cell_type": "markdown",
   "id": "433a8aea-2d1c-4fa2-a1e2-7dce597882f7",
   "metadata": {},
   "source": [
    "ans 1"
   ]
  },
  {
   "cell_type": "code",
   "execution_count": 3,
   "id": "ed2967b5-ab1a-4130-85f5-448628e266e0",
   "metadata": {},
   "outputs": [
    {
     "name": "stdout",
     "output_type": "stream",
     "text": [
      "Vehicle : Car, Max_speed : 200 km/h, Average Speed : 60km/h\n"
     ]
    }
   ],
   "source": [
    "class Vehicle:\n",
    "    def __init__(self,name_of_vehicle,max_speed, average_speed):\n",
    "        self.name_of_vehicle = name_of_vehicle\n",
    "        self.max_speed = max_speed\n",
    "        self.average_speed = average_speed\n",
    "        \n",
    " #Example usage       \n",
    "        \n",
    "car = Vehicle(name_of_vehicle = \"Car\",max_speed= 200,average_speed = 60)\n",
    "print(f\"Vehicle : {car.name_of_vehicle}, Max_speed : {car.max_speed} km/h, Average Speed : {car.average_speed}km/h\")"
   ]
  },
  {
   "cell_type": "markdown",
   "id": "b6e65efc-e98f-437a-8b7f-9803f417b84c",
   "metadata": {},
   "source": [
    "ans 2"
   ]
  },
  {
   "cell_type": "code",
   "execution_count": 6,
   "id": "08b88162-1084-43fd-ae02-521b7fa82674",
   "metadata": {},
   "outputs": [
    {
     "name": "stdout",
     "output_type": "stream",
     "text": [
      "Car has a seating capacity of 5 passengers.\n"
     ]
    }
   ],
   "source": [
    "class Vehicle:\n",
    "    def __init__(self,name_of_vehicle,max_speed, average_speed):\n",
    "        self.name_of_vehicle = name_of_vehicle\n",
    "        self.max_speed = max_speed\n",
    "        self.average_speed = average_speed\n",
    "        \n",
    "class Car(Vehicle):\n",
    "    def __init__(self,name_of_vehicle,max_speed,average_speed):\n",
    "        super().__init__(name_of_vehicle,max_speed ,average_speed)\n",
    "        \n",
    "    def seating_capacity(self,capacity):\n",
    "        return f\"{self.name_of_vehicle} has a seating capacity of {capacity} passengers.\"\n",
    "        \n",
    " #Example usage       \n",
    "        \n",
    "car = Car(name_of_vehicle = \"Car\",max_speed= 200,average_speed = 60)\n",
    "print(car.seating_capacity(5))"
   ]
  },
  {
   "cell_type": "markdown",
   "id": "e5fccfac-c009-4fba-b3c5-2b523bded76c",
   "metadata": {},
   "source": [
    "ans 3\n",
    "multiple inheritence : it is a class can inherit attributes and methods \n",
    "from more than one parent class.  in multiple inheritence a subclass \n",
    "is derived from multiple base classes ,allowing it to inherit properties and behaviours from all of them.\n"
   ]
  },
  {
   "cell_type": "code",
   "execution_count": 8,
   "id": "9f55839f-f5fa-4a91-af48-a4c4ac9ef8a3",
   "metadata": {},
   "outputs": [
    {
     "name": "stdout",
     "output_type": "stream",
     "text": [
      "polly says 'hello!'\n"
     ]
    }
   ],
   "source": [
    "class Animal:\n",
    "    def __init__(self,name):\n",
    "        self.name = name \n",
    "        \n",
    "    def speak(self):\n",
    "        pass\n",
    "    \n",
    "# parent class\n",
    "class Bird :\n",
    "    def fly(self):\n",
    "        pass\n",
    "    \n",
    "class Parrot(Animal,Bird):\n",
    "    def speak(self):\n",
    "        return f\"{self.name} says 'hello!'\"\n",
    "parrot = Parrot(name = \"polly\") \n",
    "\n",
    "print(parrot.speak())\n",
    "parrot.fly()"
   ]
  },
  {
   "cell_type": "markdown",
   "id": "60aaaf4b-b9f8-41a6-8ddc-fd475546e602",
   "metadata": {},
   "source": [
    "ans 4\n",
    " getter and setter methods used to control  access to attributes of a class.\n"
   ]
  },
  {
   "cell_type": "code",
   "execution_count": 16,
   "id": "2d0dc03f-9b01-4592-a071-5dd89bcc74e5",
   "metadata": {},
   "outputs": [
    {
     "ename": "IndentationError",
     "evalue": "unindent does not match any outer indentation level (<tokenize>, line 7)",
     "output_type": "error",
     "traceback": [
      "\u001b[0;36m  File \u001b[0;32m<tokenize>:7\u001b[0;36m\u001b[0m\n\u001b[0;31m    def get_name(self):\u001b[0m\n\u001b[0m    ^\u001b[0m\n\u001b[0;31mIndentationError\u001b[0m\u001b[0;31m:\u001b[0m unindent does not match any outer indentation level\n"
     ]
    }
   ],
   "source": [
    "class Person:\n",
    "    def __init__(self,name,age):\n",
    "        self._name = name\n",
    "        self._age= age\n",
    "        \n",
    "# getetre methor for the 'name' attribute\n",
    "  def get_name(self):\n",
    "        return self._name\n",
    "# setter method for the name attribute\n",
    "  def set_name(self,name):\n",
    "        if isinstance(name,str):\n",
    "            self._name = name\n",
    "        else:\n",
    "            print(\"name must be string.\"\n",
    "    \n",
    "  def get_age(self):\n",
    "     return self._age\n",
    "                  \n",
    "  def set_age(self,age):\n",
    "      if isinstance(age,int) and age >= 0: \n",
    "         self._age = age\n",
    "      else:\n",
    "        print(\" age must be non negative integer .\")\n",
    "# creating an instance of the person class\n",
    "person = Person(name = \"Alice\", age=30)\n",
    "                  \n",
    "# using getter method to retrieve\n",
    "print(\"Name:\", person.get_name())\n",
    "print(\"Age:\" ,person.get_age())\n",
    "# using settere methods to update attributes\n",
    "person.set_name(\"Bob\")\n",
    "person.set_age(25)\n",
    "                  \n",
    "print(\"updated Name:\",person.get_name())\n",
    "print(\"updated Age:\",person.get_age())                  "
   ]
  },
  {
   "cell_type": "markdown",
   "id": "079eaad0-6b10-40f7-8960-fdf31afea6e0",
   "metadata": {},
   "source": [
    "ans 5\n",
    "method overiding: it is a concept of OOPS where a subclass provides a specific implementation for a method that is alraedy defined in iots parent class."
   ]
  },
  {
   "cell_type": "code",
   "execution_count": null,
   "id": "6ad32bd7-bf43-4688-8d77-a7a6da651ccf",
   "metadata": {},
   "outputs": [],
   "source": [
    "class Animal:\n",
    "    def speak(self):\n",
    "        print(\"Animal speaks\")\n",
    "class Dog(Animal):\n",
    "    def speak(self):\n",
    "        print(\"Dog barks\")\n",
    "class Cat(Animal):\n",
    "    def speak(self):\n",
    "        print(ca)"
   ]
  }
 ],
 "metadata": {
  "kernelspec": {
   "display_name": "Python 3 (ipykernel)",
   "language": "python",
   "name": "python3"
  },
  "language_info": {
   "codemirror_mode": {
    "name": "ipython",
    "version": 3
   },
   "file_extension": ".py",
   "mimetype": "text/x-python",
   "name": "python",
   "nbconvert_exporter": "python",
   "pygments_lexer": "ipython3",
   "version": "3.10.8"
  }
 },
 "nbformat": 4,
 "nbformat_minor": 5
}
