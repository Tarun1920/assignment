{
 "cells": [
  {
   "cell_type": "raw",
   "id": "10a770d7-ac8a-4ec6-a787-75a57e9a6674",
   "metadata": {},
   "source": [
    "ans 1 \n",
    "open() function is used  to open a file.\n",
    " the different mode  of opening a file are:\n",
    " \n",
    "1. 'r'(Read):\n",
    " .this is the deafault mode \n",
    " . it open the file for reading ,and the file pointer is\n",
    "    placed at the begining of the file.\n",
    "     file = open('example.txt','r')\n",
    "     \n",
    "2. 'w'(Write):\n",
    "  . it opes the file for writing.\n",
    "  . if the file already exists,it truncates the file to zero length.\n",
    "  . if the  file does not exsits ,create new file\n",
    "    file= open('example.txt','w')\n",
    "  \n",
    "3.'a'(Append):\n",
    "it opens the file for writing.\n",
    "if thee file exists ,the file pointer is at the end of the file.\n",
    "if the file does not exists ,it creates new file \n",
    "file = open('example.txt','w')\n",
    "\n",
    "   \n",
    "    \n",
    "    \n",
    "4.'b'(?Binary mode):\n",
    "this is used in conjuction woth other modes \n",
    "it open files in bainary mode\n",
    "file = open(example.bin', 'rb'),\n",
    "\n",
    "\n",
    "\n",
    "5.'x(Exclusive creation):\n",
    "it creayes  a new file and open it for writing.\n",
    "it the files already exists the operation will fail\n",
    "file = open('example.txt','x')\n",
    "\n",
    "\n",
    "\n",
    "6.'+'(Read and write):\n",
    " it opens the file for both reading and writing.\n",
    " the file pointer isn placed at the begining of the file.\n",
    " file = open('example.txt','r+')\n",
    "\n",
    "\n",
    "7.'t'(Text mode):\n",
    "this is  mode when working with files\n",
    "it is used to comjuction with other modes\n",
    "file = open('example.txt', 'rt')"
   ]
  },
  {
   "cell_type": "code",
   "execution_count": null,
   "id": "3692222d-527a-436e-b9ab-c37b1cac8dde",
   "metadata": {},
   "outputs": [],
   "source": [
    "ans 2\n",
    " close function is used to explicity close a file that has been opened \n",
    "    using the open() function in python.\n",
    "    important for several reason\n",
    "    1.Resource management\n",
    "    2.Data integrity\n",
    "    3.locking\n",
    "    4. portability\n",
    "    file = open('example.txt', 'w')\n",
    "    file.write('hello world')\n",
    "    file.close()"
   ]
  },
  {
   "cell_type": "code",
   "execution_count": null,
   "id": "95dae6e0-8d81-4f05-8928-ce0cb39a0f74",
   "metadata": {},
   "outputs": [],
   "source": [
    "ans 3"
   ]
  },
  {
   "cell_type": "code",
   "execution_count": 2,
   "id": "22ce6cd2-35dc-4c93-a9e5-61e32d676344",
   "metadata": {},
   "outputs": [
    {
     "name": "stdout",
     "output_type": "stream",
     "text": [
      "I want to become data scientist\n"
     ]
    }
   ],
   "source": [
    "with open('data_scientist.txt','w') as file:\n",
    "    file.write( 'I want to become data scientist')\n",
    "    \n",
    "    #open the file for reading\n",
    "with open('data_scientist.txt','r') as file:\n",
    "    content = file.read()\n",
    "    print(content)"
   ]
  },
  {
   "cell_type": "code",
   "execution_count": null,
   "id": "6db28908-1d75-4519-bcea-8786a490e0de",
   "metadata": {},
   "outputs": [],
   "source": [
    "ans 4\n",
    "\n",
    "1.read ()Method:\n",
    "    .the read() method reads the entire content of a file\n",
    "    as a single string.\n",
    "    . it raed from the current file position to wnd of the file .\n",
    "with open('example.txt','r') as file:\n",
    "    content = file.read()\n",
    "    print(content)\n",
    "    \n",
    "2.readline() method:\n",
    "    .it method reads a single line from the file.\n",
    "    .it reads from the current file position upto the first newlinw \n",
    "    character or end of the line\n",
    "with open ('example.txt','r') as file:\n",
    "    line1 = file.readline()\n",
    "    line2 = file.readline()\n",
    "    \n",
    "    print(\"line 1:\",line1)\n",
    "    print(\"line 2:\", line2)\n",
    "    \n",
    "3.readlines( method):\n",
    "    .it method raed all the lines of a file and returns them as a list \n",
    "    of strings\n",
    "    .it reads from the current file position to the end of the file.\n",
    "with open('example.txt','r') as file:\n",
    "    lines = file.readlines()\n",
    "    for line in lines :\n",
    "        print(line , end='')\n",
    "    "
   ]
  },
  {
   "cell_type": "code",
   "execution_count": null,
   "id": "0aefd6c5-48a2-493b-8304-1aea28f65cfc",
   "metadata": {},
   "outputs": [],
   "source": [
    "ans 5\n",
    "with statement is used in conjuction with open()  function in python\n",
    "to provide a convenient and safer way to work with files. \n",
    "it  automatically takes acre of resource and management  and ensures \n",
    "that the file is properly opened and closed .\n",
    " # its adavantages\n",
    "    1.Automatic cleanup\n",
    "    2.exception Handling\n",
    "    3.simplified code\n",
    "file = open('example.txt','r')\n",
    "try:\n",
    "    content = file.read()\n",
    "    # process the content\n",
    "finally:\n",
    "    file.close()\n",
    "    \n",
    "  # with the statement \n",
    "with open('example.txt','r') as file:\n",
    "    content = file.read()\n",
    "    # finalyy is automatially closed eith the 'with' block is exited"
   ]
  },
  {
   "cell_type": "code",
   "execution_count": null,
   "id": "2bfd25c6-81dc-4d16-80b9-bca24a3e4045",
   "metadata": {},
   "outputs": [],
   "source": [
    "ans 6.\n",
    "write() function:\n",
    "    the write is used to write a string or a sequences \n",
    "    of characyters to a file.it appaend the specified text to the \n",
    "    end of the file,staring from the current position.\n",
    "     with open('example.txt','w') as file:\n",
    "            file.write('hello world')\n",
    "writelines() functions:\n",
    "    .the writelines function  is use dto write a list of strings to a file \n",
    "    .it wites each string as a seperatee line in th file.\n",
    "    .it does not add newline characyers between the string ,so \n",
    "    you should include them in the string i fyou waant to sepearte lines.\n",
    "lines = ['line 1','line 2','line 3']\n",
    "with open ('example.txt','w') as file:\n",
    "    file.writelines('/n'.join(lines))"
   ]
  }
 ],
 "metadata": {
  "kernelspec": {
   "display_name": "Python 3 (ipykernel)",
   "language": "python",
   "name": "python3"
  },
  "language_info": {
   "codemirror_mode": {
    "name": "ipython",
    "version": 3
   },
   "file_extension": ".py",
   "mimetype": "text/x-python",
   "name": "python",
   "nbconvert_exporter": "python",
   "pygments_lexer": "ipython3",
   "version": "3.10.8"
  }
 },
 "nbformat": 4,
 "nbformat_minor": 5
}
