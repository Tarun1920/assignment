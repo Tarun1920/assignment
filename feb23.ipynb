{
 "cells": [
  {
   "cell_type": "markdown",
   "id": "2f5fb1f3-d805-4f0e-b17b-597440ed63d1",
   "metadata": {},
   "source": [
    "ans 1"
   ]
  },
  {
   "cell_type": "code",
   "execution_count": 1,
   "id": "a3c4d980-595b-4e1d-841a-d6f49945438f",
   "metadata": {},
   "outputs": [
    {
     "name": "stdout",
     "output_type": "stream",
     "text": [
      "0     4\n",
      "1     8\n",
      "2    15\n",
      "3    16\n",
      "4    23\n",
      "5    42\n",
      "dtype: int64\n"
     ]
    }
   ],
   "source": [
    "import pandas as pd\n",
    "\n",
    "data = [4, 8, 15, 16, 23, 42]\n",
    "series = pd.Series(data)\n",
    "print(series)"
   ]
  },
  {
   "cell_type": "markdown",
   "id": "08b796de-1d50-4833-88c1-eed354346a86",
   "metadata": {},
   "source": [
    "ans 2"
   ]
  },
  {
   "cell_type": "code",
   "execution_count": 2,
   "id": "53b8c617-da88-4e2d-a538-0d78438cdde6",
   "metadata": {},
   "outputs": [
    {
     "name": "stdout",
     "output_type": "stream",
     "text": [
      "0     10\n",
      "1     20\n",
      "2     30\n",
      "3     40\n",
      "4     50\n",
      "5     60\n",
      "6     70\n",
      "7     80\n",
      "8     90\n",
      "9    100\n",
      "dtype: int64\n"
     ]
    }
   ],
   "source": [
    "import pandas as pd\n",
    "\n",
    "my_list = [10, 20, 30, 40, 50, 60, 70, 80, 90, 100]\n",
    "series = pd.Series(my_list)\n",
    "print(series)\n"
   ]
  },
  {
   "cell_type": "markdown",
   "id": "d5d2011b-fed2-43c6-b63d-f2de161ce3ba",
   "metadata": {},
   "source": [
    "ans 3"
   ]
  },
  {
   "cell_type": "code",
   "execution_count": 3,
   "id": "d58a02f4-b08d-408c-bf88-76a03dcc185e",
   "metadata": {},
   "outputs": [
    {
     "name": "stdout",
     "output_type": "stream",
     "text": [
      "     Name  Age  Gender\n",
      "0   Alice   25  Female\n",
      "1     Bob   30    Male\n",
      "2  Claire   27  Female\n"
     ]
    }
   ],
   "source": [
    "import pandas as pd\n",
    "\n",
    "data = {\n",
    "    'Name': ['Alice', 'Bob', 'Claire'],\n",
    "    'Age': [25, 30, 27],\n",
    "    'Gender': ['Female', 'Male', 'Female']\n",
    "}\n",
    "\n",
    "df = pd.DataFrame(data)\n",
    "print(df)\n"
   ]
  },
  {
   "cell_type": "markdown",
   "id": "214490b5-4792-4717-bbc4-4bde06d9d60b",
   "metadata": {},
   "source": [
    "ans 4"
   ]
  },
  {
   "cell_type": "code",
   "execution_count": null,
   "id": "b32fded4-f941-4c60-b35a-6a9a59bfeddb",
   "metadata": {},
   "outputs": [],
   "source": [
    "In Pandas, a DataFrame is a two-dimensional, tabular data structure that is commonly used for data manipulation and analysis. It can be thought of as a collection of Pandas Series, where each Series represents a column, and the columns are aligned by a common index. DataFrames are quite similar to data tables or spreadsheets, and they are one of the most commonly used data structures in Pandas\n",
    "\n",
    "On the other hand, a Pandas Series is a one-dimensional array-like object that can store data of any data type (integers, strings, floats, etc.), and it is similar to a column in a DataFrame. Each element in a Series has an associated label or index, which can be used to access individual elements in the Series.\n",
    "\n"
   ]
  },
  {
   "cell_type": "code",
   "execution_count": 4,
   "id": "654f8bd1-afcc-425f-8e1c-3f169aa20f7c",
   "metadata": {},
   "outputs": [
    {
     "name": "stdout",
     "output_type": "stream",
     "text": [
      "0    1\n",
      "1    2\n",
      "2    3\n",
      "3    4\n",
      "4    5\n",
      "Name: MySeries, dtype: int64\n"
     ]
    }
   ],
   "source": [
    "# example \n",
    "import pandas as pd\n",
    "\n",
    "# Creating a Series\n",
    "s = pd.Series([1, 2, 3, 4, 5], name='MySeries')\n",
    "print(s)\n"
   ]
  },
  {
   "cell_type": "code",
   "execution_count": 5,
   "id": "fd8b087e-e11b-4819-aa86-c27f5bcda51e",
   "metadata": {},
   "outputs": [
    {
     "name": "stdout",
     "output_type": "stream",
     "text": [
      "     Name  Age\n",
      "0   Alice   25\n",
      "1     Bob   30\n",
      "2  Claire   27\n"
     ]
    }
   ],
   "source": [
    "# Creating a DataFrame\n",
    "data = {\n",
    "    'Name': ['Alice', 'Bob', 'Claire'],\n",
    "    'Age': [25, 30, 27]\n",
    "}\n",
    "\n",
    "df = pd.DataFrame(data)\n",
    "print(df)\n"
   ]
  },
  {
   "cell_type": "markdown",
   "id": "a9c6adb6-0fd3-4df9-b644-e5a786ba4b20",
   "metadata": {},
   "source": [
    "ans 5"
   ]
  },
  {
   "cell_type": "code",
   "execution_count": null,
   "id": "ecfcb8bf-8433-4227-b0e6-1d4845b7b7f0",
   "metadata": {},
   "outputs": [],
   "source": [
    "Selecting Columns:\n",
    "\n",
    "df['ColumnName']: You can select a single column by specifying its name.\n",
    "df[['Column1', 'Column2']]: You can select multiple columns\n",
    "\n",
    "->Filtering Data:\n",
    "\n",
    "df[df['Column'] > 30]: You can filter rows based on a condition.\n",
    "\n",
    " ->Sorting Data:\n",
    "\n",
    "df.sort_values(by='Column'): You can sort the DataFrame by a specific column.\n",
    "\n",
    "\n",
    "->Grouping Data:\n",
    "\n",
    "df.groupby('Column'): You can group data by a specific column.\n",
    "\n",
    "\n",
    "->Aggregating Data:\n",
    "\n",
    "df['Column'].sum(), df['Column'].mean(), df['Column'].count(), etc.: You can perform aggregate functions on a specific column.\n",
    "\n",
    "\n",
    "->Joining Data:\n",
    "\n",
    "pd.merge(df1, df2, on='KeyColumn'): You can join two DataFrames on a common column.\n",
    "\n",
    "->Handling Missing Data:\n",
    "\n",
    "df.dropna(): Remove rows with missing values.\n",
    "df.fillna(value): Replace missing values with a specific value.\n",
    "\n",
    "\n"
   ]
  },
  {
   "cell_type": "markdown",
   "id": "da8f5046-b478-4bfe-a24d-c15c8811ed0f",
   "metadata": {},
   "source": [
    "ans 6"
   ]
  },
  {
   "cell_type": "code",
   "execution_count": null,
   "id": "a75cf2f0-5164-4990-bbce-f4e3915af870",
   "metadata": {},
   "outputs": [],
   "source": [
    "a DataFrame is mutable in nature. You can modify the contents of a DataFrame, add or remove columns, and update data within the DataFrame. DataFrames are designed to be mutable, and you can perform various data manipulation operations on them.\n",
    "\n",
    "\n"
   ]
  }
 ],
 "metadata": {
  "kernelspec": {
   "display_name": "Python 3 (ipykernel)",
   "language": "python",
   "name": "python3"
  },
  "language_info": {
   "codemirror_mode": {
    "name": "ipython",
    "version": 3
   },
   "file_extension": ".py",
   "mimetype": "text/x-python",
   "name": "python",
   "nbconvert_exporter": "python",
   "pygments_lexer": "ipython3",
   "version": "3.10.8"
  }
 },
 "nbformat": 4,
 "nbformat_minor": 5
}
