{
 "cells": [
  {
   "cell_type": "markdown",
   "id": "90aa62e1-a4b4-4965-8ab3-90b4f40e3f2a",
   "metadata": {},
   "source": [
    "ans 1"
   ]
  },
  {
   "cell_type": "code",
   "execution_count": 5,
   "id": "9fb0a5c6-97c6-4d89-b06f-7bef8a84d1a6",
   "metadata": {},
   "outputs": [
    {
     "name": "stdout",
     "output_type": "stream",
     "text": [
      "('Virat Kohli', 24936)\n",
      "('Jack kallis', 25534)\n",
      "('Ricky Ponting', 27483)\n",
      "('Sachin Tendulkar', 34357)\n"
     ]
    }
   ],
   "source": [
    "#List of tuples\n",
    "\n",
    "data =[('Sachin Tendulkar',34357), ('Ricky Ponting', 27483),('Jack kallis',25534),('Virat Kohli',24936)]\n",
    "\n",
    "sorted_data = sorted(data, key=lambda x: x[1])\n",
    "\n",
    "#print the sorted list\n",
    "for item in sorted_data:\n",
    "    print (item)"
   ]
  },
  {
   "cell_type": "markdown",
   "id": "fc11f636-3d5d-406c-93a0-6f361c637477",
   "metadata": {},
   "source": [
    "ans 2"
   ]
  },
  {
   "cell_type": "code",
   "execution_count": 6,
   "id": "d3c90d53-5a46-4100-b23a-d7bda58a5ec5",
   "metadata": {},
   "outputs": [
    {
     "name": "stdout",
     "output_type": "stream",
     "text": [
      "[1, 4, 9, 16, 25, 36, 49, 64, 81, 100]\n"
     ]
    }
   ],
   "source": [
    "#list of integers\n",
    "numbers =[1,2,3,4,5,6,7,8,9,10]\n",
    "# use a map function with a lambda function\n",
    "squares= list(map(lambda x: x**2,numbers))\n",
    "\n",
    "#print the squares\n",
    "print(squares)"
   ]
  },
  {
   "cell_type": "markdown",
   "id": "4fd0fd10-1fe4-4009-90e6-9b3556036442",
   "metadata": {},
   "source": [
    "ans 3"
   ]
  },
  {
   "cell_type": "code",
   "execution_count": 7,
   "id": "9e3797f7-b0ef-4f94-9000-570ec139fa98",
   "metadata": {},
   "outputs": [
    {
     "name": "stdout",
     "output_type": "stream",
     "text": [
      "('1', '2', '3', '4', '5', '6', '7', '8', '9', '10')\n"
     ]
    }
   ],
   "source": [
    "numbers =[1,2,3,4,5,6,7,8,9,10]\n",
    "#use the map function with a lambvda fnction \n",
    "string_tuple = tuple(map(lambda x:str(x),numbers))\n",
    "\n",
    "# print the resulting tuple\n",
    "print(string_tuple)"
   ]
  },
  {
   "cell_type": "markdown",
   "id": "23af4813-9064-498f-b657-c99c78638cf0",
   "metadata": {},
   "source": [
    "ans 4"
   ]
  },
  {
   "cell_type": "code",
   "execution_count": 8,
   "id": "c8dbb02f-2d98-4bb9-9206-365dcb80d2aa",
   "metadata": {},
   "outputs": [
    {
     "name": "stdout",
     "output_type": "stream",
     "text": [
      " the prioduct  of the numbers from 1 to 25 is: 15511210043330985984000000\n"
     ]
    }
   ],
   "source": [
    "from functools import reduce\n",
    "#function to compute the product of two numbers\n",
    "def multiply(x,y):\n",
    "    return  x * y\n",
    "\n",
    "numbers = list(range(1,26))\n",
    "\n",
    "product = reduce(multiply,numbers)\n",
    "# print the result\n",
    "print(\" the prioduct  of the numbers from 1 to 25 is:\", product)"
   ]
  },
  {
   "cell_type": "markdown",
   "id": "62cb8830-8136-4029-a354-b10a1b7b0e6a",
   "metadata": {},
   "source": [
    "ans 5"
   ]
  },
  {
   "cell_type": "code",
   "execution_count": 9,
   "id": "7c62bd30-a922-453a-b12e-9ea7954d4913",
   "metadata": {},
   "outputs": [
    {
     "name": "stdout",
     "output_type": "stream",
     "text": [
      "[6, 60, 90, 120]\n"
     ]
    }
   ],
   "source": [
    "#list of numbers\n",
    "numbers = [2,3,6,9,27,60,90,120,55,46]\n",
    "#use the filter function\n",
    "filtered_numbers = list(filter(lambda x: x%2 == 0 and x%3==0,numbers))\n",
    "#print\n",
    "print(filtered_numbers)"
   ]
  },
  {
   "cell_type": "markdown",
   "id": "549ef920-b8b6-4d5a-9a2c-a311456434c3",
   "metadata": {},
   "source": [
    "ans 6"
   ]
  },
  {
   "cell_type": "code",
   "execution_count": null,
   "id": "0ebb216d-73c2-4880-ae6a-f9812ae5fc7e",
   "metadata": {},
   "outputs": [],
   "source": [
    "#list of strings\n",
    "words = ['python','php','aba','radar','level']\n",
    "\n",
    "#use the filter function \n",
    "palindromes=list(filter(lambda word: word == word[::-1],words))\n",
    "#print \n"
   ]
  }
 ],
 "metadata": {
  "kernelspec": {
   "display_name": "Python 3 (ipykernel)",
   "language": "python",
   "name": "python3"
  },
  "language_info": {
   "codemirror_mode": {
    "name": "ipython",
    "version": 3
   },
   "file_extension": ".py",
   "mimetype": "text/x-python",
   "name": "python",
   "nbconvert_exporter": "python",
   "pygments_lexer": "ipython3",
   "version": "3.10.8"
  }
 },
 "nbformat": 4,
 "nbformat_minor": 5
}
