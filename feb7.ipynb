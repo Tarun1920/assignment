{
 "cells": [
  {
   "cell_type": "markdown",
   "id": "d3bdf6a0-7473-4c76-b90b-007e6a7f18e0",
   "metadata": {},
   "source": [
    "ans 1"
   ]
  },
  {
   "cell_type": "code",
   "execution_count": 1,
   "id": "f0ea69b1-7505-4328-9cb3-d0eab3cf8a34",
   "metadata": {},
   "outputs": [
    {
     "name": "stdout",
     "output_type": "stream",
     "text": [
      "Invalid Password\n",
      "Invalid Password\n",
      "Invalid Password\n",
      "Invalid Password\n"
     ]
    }
   ],
   "source": [
    "import re\n",
    "\n",
    "def is_Valid_password(password):\n",
    "    #check if the password length is 10 character\n",
    "    if len(password) != 10:\n",
    "        return \"Invalid Password\"\n",
    "    \n",
    "    #count  uppercase and lowercase letetrs\n",
    "    uppercase_count = sum(1 for char in password if char.isupper())\n",
    "    lowercase_count = sum(1 for char in password if char.islower())\n",
    "    \n",
    "    #check if there are at least two uppercase and two lowercase letters\n",
    "    if uppercase_count < 2 or lowercase_count < 2:\n",
    "        return \"Invalid Password\"\n",
    "        \n",
    "    #check if there is at least one digit and three speaical characters     \n",
    "    if not re.match(r'^.*[0-9].*$',password) or not re.match(r'^.*[^a-zA-Z0-9].*[^a-zA-Z0-9].*[^a-zA-Z0-9].*$',password):\n",
    "        return \"Invalid Password\"\n",
    "    \n",
    "    return \"Valid Password\"\n",
    "\n",
    "   #test the function with some sample passwords\n",
    "print(is_Valid_password(\"Abc@12345\")) \n",
    "print(is_Valid_password(\"abcDE123@#\"))  \n",
    "print(is_Valid_password(\"abc1234567\")) \n",
    "print(is_Valid_password(\"AbcD#1\"))\n",
    "        \n",
    "    \n",
    "    "
   ]
  },
  {
   "cell_type": "markdown",
   "id": "9e4f4881-5f2e-4e7a-b3c3-b2a67542bbb3",
   "metadata": {},
   "source": [
    "ans 2"
   ]
  },
  {
   "cell_type": "code",
   "execution_count": 2,
   "id": "788455ef-fe39-4675-a0ac-53661f40e4c1",
   "metadata": {},
   "outputs": [
    {
     "name": "stdout",
     "output_type": "stream",
     "text": [
      "['Yello', 'Yellow']\n"
     ]
    }
   ],
   "source": [
    "# lambda function\n",
    "strings =[\"Yello\", \"Blue\", \"Yellow\",\"Green\"]\n",
    "starts_with_Y= filter(lambda s: s.startswith(\"Y\"),strings)\n",
    "print(list(starts_with_Y))"
   ]
  },
  {
   "cell_type": "code",
   "execution_count": 3,
   "id": "e3046ad6-d161-4581-9d4d-f48f31a4a7a9",
   "metadata": {},
   "outputs": [
    {
     "name": "stdout",
     "output_type": "stream",
     "text": [
      "[True, False, True, True]\n"
     ]
    }
   ],
   "source": [
    "strings = [\"123\",\"abc\",\"456\",\"789\"]\n",
    "is_numeric = map(lambda s: s.isnumeric(),strings)\n",
    "print(list(is_numeric))"
   ]
  },
  {
   "cell_type": "code",
   "execution_count": 4,
   "id": "f1bed042-44c5-4391-84b4-a2807766344f",
   "metadata": {},
   "outputs": [
    {
     "name": "stdout",
     "output_type": "stream",
     "text": [
      "[1, 4, 9, 16, 25, 36, 49, 64, 81, 100]\n"
     ]
    }
   ],
   "source": [
    "#finding the squares using list comprehension;\n",
    "squares = [x**2 for x in range (1,11)]\n",
    "print(squares)"
   ]
  },
  {
   "cell_type": "code",
   "execution_count": 5,
   "id": "0fbcad29-fc54-4a74-91c0-d85e0b7b9d10",
   "metadata": {},
   "outputs": [
    {
     "name": "stdout",
     "output_type": "stream",
     "text": [
      "[1.0, 1.2599210498948732, 1.4422495703074083, 1.5874010519681994, 1.7099759466766968, 1.8171205928321397, 1.912931182772389, 2.0, 2.080083823051904, 2.154434690031884]\n"
     ]
    }
   ],
   "source": [
    "# finding the cube root\n",
    "import math\n",
    "cuberoots= [math.pow(x,1/3)  for x in range (1,11)]\n",
    "print(cuberoots)"
   ]
  },
  {
   "cell_type": "code",
   "execution_count": 6,
   "id": "37777bf7-13ba-4144-b7e9-9c4c7938689e",
   "metadata": {},
   "outputs": [
    {
     "name": "stdout",
     "output_type": "stream",
     "text": [
      "[1, 3, 5, 7, 9]\n"
     ]
    }
   ],
   "source": [
    "# filter odd num using filter func an dlambda fun\n",
    "numbers=[1,2,3,4,5,6,7,8,9,10]\n",
    "odd_numbers = list(filter(lambda x: x % 2!= 0, numbers))\n",
    "print(odd_numbers)"
   ]
  },
  {
   "cell_type": "code",
   "execution_count": 7,
   "id": "63b46d7f-e7b5-4342-83aa-4d1c632cd4a3",
   "metadata": {},
   "outputs": [
    {
     "ename": "SyntaxError",
     "evalue": "invalid syntax (3931846299.py, line 3)",
     "output_type": "error",
     "traceback": [
      "\u001b[0;36m  Cell \u001b[0;32mIn[7], line 3\u001b[0;36m\u001b[0m\n\u001b[0;31m    positive_numbers = [x for in numbers if x > 0]\u001b[0m\n\u001b[0m                              ^\u001b[0m\n\u001b[0;31mSyntaxError\u001b[0m\u001b[0;31m:\u001b[0m invalid syntax\n"
     ]
    }
   ],
   "source": [
    "#sort a list of+ve and -ve integers using ccomprehension\n",
    "numbers = [1,2,3,4,5,6,-1,-2,-3,-4,-5,0]\n",
    "positive_numbers = [x for x in numbers if x > 0]\n",
    "negative_numbers = [x for x  in numbers if x < 0]\n",
    "print(positive_numbers)\n",
    "print(negative_numbers)"
   ]
  },
  {
   "cell_type": "code",
   "execution_count": null,
   "id": "8bd84c11-c8ea-4928-801e-fe86148b19d3",
   "metadata": {},
   "outputs": [],
   "source": []
  }
 ],
 "metadata": {
  "kernelspec": {
   "display_name": "Python 3 (ipykernel)",
   "language": "python",
   "name": "python3"
  },
  "language_info": {
   "codemirror_mode": {
    "name": "ipython",
    "version": 3
   },
   "file_extension": ".py",
   "mimetype": "text/x-python",
   "name": "python",
   "nbconvert_exporter": "python",
   "pygments_lexer": "ipython3",
   "version": "3.10.8"
  }
 },
 "nbformat": 4,
 "nbformat_minor": 5
}
