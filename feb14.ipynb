{
 "cells": [
  {
   "cell_type": "markdown",
   "id": "91726e6f-d02c-47ff-b462-e564754160e8",
   "metadata": {},
   "source": [
    "ans 1"
   ]
  },
  {
   "cell_type": "code",
   "execution_count": null,
   "id": "9c9f9fa4-2553-40d6-964e-076c0f12c9e6",
   "metadata": {},
   "outputs": [],
   "source": [
    "Multithreading in Python refers to the ability to have multiple \n",
    "threads (smaller units of a process) running concurrently within a \n",
    "single process. These threads share the same memory space and can \n",
    "perform tasks simultaneously. This allows you to take advantage of \n",
    "multiple CPU cores and perform tasks more efficiently, particularly\n",
    "when dealing with I/O-bound operations or parallelizable tasks.\n",
    "\n",
    "it is used for:\n",
    "1.concurrency\n",
    "2.Parallelism\n"
   ]
  },
  {
   "cell_type": "code",
   "execution_count": 1,
   "id": "839af93a-fd8b-416b-b38b-101cdb417bab",
   "metadata": {},
   "outputs": [
    {
     "name": "stdout",
     "output_type": "stream",
     "text": [
      "Thread Thread 1 - Count 0\n",
      "Thread Thread 1 - Count 1\n",
      "Thread Thread 1 - Count 2\n",
      "Thread Thread 1 - Count 3\n",
      "Thread Thread 1 - Count 4\n",
      "Thread Thread 2 - Count 0\n",
      "Thread Thread 2 - Count 1\n",
      "Thread Thread 2 - Count 2\n",
      "Thread Thread 2 - Count 3\n",
      "Thread Thread 2 - Count 4\n",
      "Both threads have finished.\n"
     ]
    }
   ],
   "source": [
    "import threading\n",
    "\n",
    "def thread_function(name):\n",
    "    for i in range(5):\n",
    "        print(f\"Thread {name} - Count {i}\")\n",
    "\n",
    "# Create two threads\n",
    "thread1 = threading.Thread(target=thread_function, args=(\"Thread 1\",))\n",
    "thread2 = threading.Thread(target=thread_function, args=(\"Thread 2\",))\n",
    "\n",
    "# Start the threads\n",
    "thread1.start()\n",
    "thread2.start()\n",
    "\n",
    "# Wait for both threads to finish\n",
    "thread1.join()\n",
    "thread2.join()\n",
    "\n",
    "print(\"Both threads have finished.\")"
   ]
  },
  {
   "cell_type": "code",
   "execution_count": null,
   "id": "be855eb8-0d90-42b5-acc6-25450c8e6ef7",
   "metadata": {},
   "outputs": [],
   "source": []
  },
  {
   "cell_type": "code",
   "execution_count": null,
   "id": "0af4f6c6-c631-4fd4-9fb0-589778955e4a",
   "metadata": {},
   "outputs": [],
   "source": []
  },
  {
   "cell_type": "markdown",
   "id": "b1be3114-c616-49ad-bc16-c751580f915e",
   "metadata": {},
   "source": [
    "ans 2:\n",
    "    The threading module in Python is used to work with threads, allowing you to create, manage, and synchronize threads in a multi-threaded program. It provides a high-level and user-friendly way to work with threads. Some of the key functions and methods of the threading .\n",
    "    \n",
    "    activeCount(): This function is used to return the number of Thread objects currently alive. It gives you the count of threads that are currently running or have not yet terminated.\n",
    "\n",
    "   currentThread(): The currentThread() function returns the current Thread object corresponding to the caller. This is useful when you want to access the Thread object representing the thread from within the thread itself.\n",
    "    \n",
    "    enumerate(): The enumerate() function returns a list of all Thread objects currently alive. It's a convenient way to get a list of all running threads."
   ]
  },
  {
   "cell_type": "code",
   "execution_count": null,
   "id": "cf534bd9-8792-4b0d-93ef-b38650f4f503",
   "metadata": {},
   "outputs": [],
   "source": []
  },
  {
   "cell_type": "markdown",
   "id": "31e0fd47-6a11-4e62-ba48-9e0a1cf1b9da",
   "metadata": {},
   "source": [
    "ans 3"
   ]
  },
  {
   "cell_type": "code",
   "execution_count": null,
   "id": "ddc667ab-22e6-4ded-94a1-a6d33be396f9",
   "metadata": {},
   "outputs": [],
   "source": [
    "run(): The run() method is meant to be overridden in your custom thread class. When you create a new thread by subclassing threading.Thread and overriding the run() method, the code you place in the run() method is what will be executed when the thread is started. This is where you define the actual work that the thread should perform\n",
    "\n",
    "start(): The start() method is used to start a new thread. It initiates the execution of the run() method in the new thread. It should be called after you've created a threading.Thread object and before you want the thread to begin executing.\n",
    "\n",
    "isAlive(): The isAlive() method is used to check if a thread is currently executing (alive) or has already completed its execution. It returns True if the thread is alive and False if the thread has finished running.\n",
    "\n",
    "join(): The join() method is used to block the program's execution until the thread it's called on has finished executing. It's often used to ensure that the main program doesn't proceed until a specific thread has completed its task."
   ]
  },
  {
   "cell_type": "markdown",
   "id": "9399917d-8d8f-495d-beac-771054c74287",
   "metadata": {},
   "source": [
    "ans 4"
   ]
  },
  {
   "cell_type": "code",
   "execution_count": 5,
   "id": "e8e44580-3583-488a-bb34-8beb17409e1e",
   "metadata": {},
   "outputs": [
    {
     "name": "stdout",
     "output_type": "stream",
     "text": [
      "Square of 1 is 1\n",
      "Square of 2 is 4\n",
      "Square of 3 is 9\n",
      "Square of 4 is 16\n",
      "Square of 5 is 25\n",
      "Cube of 1 is 1\n",
      "Cube of 2 is 8\n",
      "Cube of 3 is 27\n",
      "Cube of 4 is 64\n",
      "Cube of 5 is 125\n",
      "Both threads have finished.\n"
     ]
    }
   ],
   "source": [
    "import threading\n",
    "\n",
    "# Function to print the list of squares\n",
    "def print_squares():\n",
    "    for i in range(1, 6):\n",
    "        print(f\"Square of {i} is {i**2}\")\n",
    "\n",
    "# Function to print the list of cubes\n",
    "def print_cubes():\n",
    "    for i in range(1, 6):\n",
    "        print(f\"Cube of {i} is {i**3}\")\n",
    "\n",
    "# Create two threads\n",
    "thread1 = threading.Thread(target=print_squares)\n",
    "thread2 = threading.Thread(target=print_cubes)\n",
    "\n",
    "# Start the threads\n",
    "thread1.start()\n",
    "thread2.start()\n",
    "\n",
    "# Wait for both threads to finish\n",
    "thread1.join()\n",
    "thread2.join()\n",
    "\n",
    "print(\"Both threads have finished.\")"
   ]
  },
  {
   "cell_type": "markdown",
   "id": "97a3dd94-a6fd-49d8-bf4f-09a2abb6959b",
   "metadata": {},
   "source": [
    "ans 5"
   ]
  },
  {
   "cell_type": "markdown",
   "id": "9aec7058-7dd5-403c-a16a-df4ec2f83ad2",
   "metadata": {},
   "source": [
    "Advantages of Multithreading:\n",
    "\n",
    "Improved Performance: Multithreading can lead to improved performance, especially on multi-core processors, as it allows tasks to run in parallel, making better use of available CPU resources. This can result in faster execution of CPU-bound and I/O-bound operations.\n",
    "\n",
    "Responsiveness: In applications where responsiveness is critical, such as user interfaces and server applications, multithreading can help keep the program responsive even when one thread is blocked by I/O or other operations. This enhances the user experience.\n",
    "\n",
    "Resource Sharing: Threads share the same memory space, making it easier to share data and resources between threads. This can be more memory-efficient than creating separate processes, which have their own memory space.\n",
    "\n",
    "Simplified Code: Multithreading can simplify code in certain situations, as it allows you to break down complex tasks into smaller, manageable threads. This can lead to cleaner and more modular code.\n",
    "\n",
    "Scalability: Multithreading can be used to create scalable applications. By adding or removing threads dynamically based on system load, applications can adapt to changing workloads efficiently.\n",
    "\n",
    "\n",
    "\n"
   ]
  },
  {
   "cell_type": "markdown",
   "id": "00a3c709-e78d-43d7-be62-40007e13c3f1",
   "metadata": {},
   "source": [
    "Disadvantages of Multithreading:\n",
    "\n",
    "Complexity: Writing and debugging multithreaded code can be significantly more complex than single-threaded code. Issues like race conditions, deadlocks, and thread synchronization can be challenging to manage.\n",
    "\n",
    "Non-deterministic Behavior: Multithreaded applications can exhibit non-deterministic behavior, which means that the order of thread execution can vary between runs, making it harder to predict and reproduce certain issues.\n",
    "\n",
    "Race Conditions: Race conditions occur when multiple threads access and modify shared data simultaneously, leading to unexpected and erroneous results. Proper synchronization mechanisms are required to prevent race conditions.\n",
    "\n",
    "Deadlocks: Deadlocks can occur when two or more threads are waiting for each other to release resources, causing the entire application to come to a standstill.\n",
    "\n",
    "Overhead: Creating and managing threads incurs overhead, both in terms of memory and CPU usage. In some cases, the overhead of thread creation and management may outweigh the benefits of parallelism.\n",
    "\n"
   ]
  },
  {
   "cell_type": "code",
   "execution_count": null,
   "id": "87534f3f-d843-4ac9-bf5c-2c728c5f8f4a",
   "metadata": {},
   "outputs": [],
   "source": []
  },
  {
   "cell_type": "code",
   "execution_count": null,
   "id": "bb3f8ce5-0480-44e9-a8a6-c3534b6db8e6",
   "metadata": {},
   "outputs": [],
   "source": []
  },
  {
   "cell_type": "markdown",
   "id": "d7f65a04-d2e3-4ca5-a238-db7db62e3689",
   "metadata": {},
   "source": [
    "ans 6"
   ]
  },
  {
   "cell_type": "code",
   "execution_count": null,
   "id": "24967f4e-9e69-4666-86d9-820a2a3d27a3",
   "metadata": {},
   "outputs": [],
   "source": [
    "Deadlock:\n",
    "\n",
    "Deadlock is a situation in which two or more threads or processes are unable to proceed because each is waiting for the other to release a resource. Deadlocks typically occur in multithreaded or multiprocess systems when the following four conditions are met simultaneously:\n",
    "\n",
    "a. Mutual Exclusion: Resources must be exclusive, meaning that only one thread or process can use a resource at a time.\n",
    "\n",
    "b. Hold and Wait: A thread holds at least one resource and is waiting for another resource to become available. It doesn't release the held resource.\n",
    "\n",
    "c. No Preemption: Resources cannot be forcibly taken away from the holding thread. They can only be released voluntarily by the thread that holds them.\n",
    "\n",
    "d. Circular Wait: A circular chain of two or more threads exists, where each is waiting for a resource held by the next thread in the chain.\n",
    "\n"
   ]
  },
  {
   "cell_type": "code",
   "execution_count": null,
   "id": "4bf3d336-d04b-44a3-9892-336541ca0843",
   "metadata": {},
   "outputs": [],
   "source": [
    "Race Condition:\n",
    "\n",
    "A race condition is a situation in which the behavior of a program depends on the relative timing of events, such as the order of execution of threads or processes. Race conditions occur when multiple threads or processes access shared resources or data concurrently, and at least one of them modifies the resource without proper synchronization. The outcome of a race condition is unpredictable and can lead to incorrect results, crashes, or other unexpected behavior.\n",
    "\n"
   ]
  }
 ],
 "metadata": {
  "kernelspec": {
   "display_name": "Python 3 (ipykernel)",
   "language": "python",
   "name": "python3"
  },
  "language_info": {
   "codemirror_mode": {
    "name": "ipython",
    "version": 3
   },
   "file_extension": ".py",
   "mimetype": "text/x-python",
   "name": "python",
   "nbconvert_exporter": "python",
   "pygments_lexer": "ipython3",
   "version": "3.10.8"
  }
 },
 "nbformat": 4,
 "nbformat_minor": 5
}
