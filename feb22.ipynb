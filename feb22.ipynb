{
 "cells": [
  {
   "cell_type": "markdown",
   "id": "871fdd65-c8f2-4c89-80a5-455bef42a57d",
   "metadata": {},
   "source": [
    "ans 1"
   ]
  },
  {
   "cell_type": "code",
   "execution_count": 7,
   "id": "e2e9cac1-38dd-4080-b83e-2b13b2e4ee3d",
   "metadata": {},
   "outputs": [
    {
     "ename": "ModuleNotFoundError",
     "evalue": "No module named 'youtubesearchpython'",
     "output_type": "error",
     "traceback": [
      "\u001b[0;31m---------------------------------------------------------------------------\u001b[0m",
      "\u001b[0;31mModuleNotFoundError\u001b[0m                       Traceback (most recent call last)",
      "Cell \u001b[0;32mIn[7], line 1\u001b[0m\n\u001b[0;32m----> 1\u001b[0m \u001b[38;5;28;01mfrom\u001b[39;00m \u001b[38;5;21;01myoutubesearchpython\u001b[39;00m \u001b[38;5;28;01mimport\u001b[39;00m VideosSearch\n\u001b[1;32m      3\u001b[0m \u001b[38;5;28;01mdef\u001b[39;00m \u001b[38;5;21mget_video_urls\u001b[39m(query, max_results\u001b[38;5;241m=\u001b[39m\u001b[38;5;241m5\u001b[39m):\n\u001b[1;32m      4\u001b[0m     video_urls \u001b[38;5;241m=\u001b[39m [ \u001b[38;5;124m\"\u001b[39m\u001b[38;5;124mhttps://www.youtube.com/@PW-Foundation/videos\u001b[39m\u001b[38;5;124m\"\u001b[39m]\n",
      "\u001b[0;31mModuleNotFoundError\u001b[0m: No module named 'youtubesearchpython'"
     ]
    }
   ],
   "source": [
    "from youtubesearchpython import VideosSearch\n",
    "\n",
    "def get_video_urls(query, max_results=5):\n",
    "    video_urls = []\n",
    "\n",
    "    try:\n",
    "        # Perform YouTube search\n",
    "        search = VideosSearch(query, limit=max_results)\n",
    "        results = search.result()\n",
    "\n",
    "        # Extract video URLs\n",
    "        for video in results['result']:\n",
    "            video_url = video['link']\n",
    "            video_urls.append(video_url)\n",
    "\n",
    "    except Exception as e:\n",
    "        print(f\"An error occurred: {str(e)}\")\n",
    "\n",
    "    return video_urls\n",
    "\n",
    "if __name__ == \"__main__\":\n",
    "    # Enter your search query here\n",
    "    search_query = input(\"Enter the YouTube search query: \")\n",
    "\n",
    "    # Get video URLs for the first five videos\n",
    "    video_urls = get_video_urls(search_query, max_results=5)\n",
    "\n",
    "    # Print the video URLs\n",
    "    print(\"\\nVideo URLs:\")\n",
    "    for i, url in enumerate(video_urls, start=1):\n",
    "        print(f\"{i}. {url}\")"
   ]
  },
  {
   "cell_type": "code",
   "execution_count": null,
   "id": "1e630d66-ac77-4b80-84bd-c05678fc110f",
   "metadata": {},
   "outputs": [],
   "source": [
    "ans 2"
   ]
  },
  {
   "cell_type": "code",
   "execution_count": null,
   "id": "7e263a70-7ebf-4cf0-83da-19a57ed3a75a",
   "metadata": {},
   "outputs": [],
   "source": [
    "from youtubesearchpython import VideosSearch\n",
    "\n",
    "def get_video_thumbnail_urls(query, max_results=5):\n",
    "    thumbnail_urls = []\n",
    "\n",
    "    try:\n",
    "        # Perform YouTube search\n",
    "        search = VideosSearch(query, limit=max_results)\n",
    "        results = search.result()\n",
    "\n",
    "        # Extract video thumbnail URLs\n",
    "        for video in results['result']:\n",
    "            thumbnail_url = video['thumbnails'][0]['url']\n",
    "            thumbnail_urls.append(thumbnail_url)\n",
    "\n",
    "    except Exception as e:\n",
    "        print(f\"An error occurred: {str(e)}\")\n",
    "\n",
    "    return thumbnail_urls\n",
    "\n",
    "if __name__ == \"__main__\":\n",
    "    # Enter your search query here\n",
    "    search_query = input(\"Enter the YouTube search query: \")\n",
    "\n",
    "    # Get thumbnail URLs for the first five videos\n",
    "    thumbnail_urls = get_video_thumbnail_urls(search_query, max_results=5)\n",
    "\n",
    "    # Print the thumbnail URLs\n",
    "    print(\"\\nVideo Thumbnail URLs:\")\n",
    "    for i, url in enumerate(thumbnail_urls, start=1):\n",
    "        print(f\"{i}. {url}\")"
   ]
  },
  {
   "cell_type": "markdown",
   "id": "ab867cd4-d3cd-44d7-9648-9a94c2d04d2a",
   "metadata": {},
   "source": [
    "ans 3"
   ]
  },
  {
   "cell_type": "code",
   "execution_count": null,
   "id": "b9947a00-04c3-45e4-b27a-5f579ebf4745",
   "metadata": {},
   "outputs": [],
   "source": [
    "from youtubesearchpython import VideosSearch\n",
    "\n",
    "def get_video_titles(query, max_results=5):\n",
    "    video_titles = []\n",
    "\n",
    "    try:\n",
    "        # Perform YouTube search\n",
    "        search = VideosSearch(query, limit=max_results)\n",
    "        results = search.result()\n",
    "\n",
    "        # Extract video titles\n",
    "        for video in results['result']:\n",
    "            title = video['title']\n",
    "            video_titles.append(title)\n",
    "\n",
    "    except Exception as e:\n",
    "        print(f\"An error occurred: {str(e)}\")\n",
    "\n",
    "    return video_titles\n",
    "\n",
    "if __name__ == \"__main__\":\n",
    "    # Enter your search query here\n",
    "    search_query = input(\"Enter the YouTube search query: \")\n",
    "\n",
    "    # Get titles of the first five videos\n",
    "    video_titles = get_video_titles(search_query, max_results=5)\n",
    "\n",
    "    # Print the video titles\n",
    "    print(\"\\nVideo Titles:\")\n",
    "    for i, title in enumerate(video_titles, start=1):\n",
    "        print(f\"{i}. {title}\")"
   ]
  },
  {
   "cell_type": "markdown",
   "id": "abc6deac-2768-41b7-a4a4-29b31cb74aa3",
   "metadata": {},
   "source": [
    "ans 4"
   ]
  },
  {
   "cell_type": "code",
   "execution_count": null,
   "id": "07602c33-1baa-4091-85db-b02c75bcfa93",
   "metadata": {},
   "outputs": [],
   "source": [
    "from youtubesearchpython import VideosSearch\n",
    "\n",
    "def get_video_views(query, max_results=5):\n",
    "    video_views = []\n",
    "\n",
    "    try:\n",
    "        # Perform YouTube search\n",
    "        search = VideosSearch(query, limit=max_results)\n",
    "        results = search.result()\n",
    "\n",
    "        # Extract video views\n",
    "        for video in results['result']:\n",
    "            views = video['viewCount']['text']\n",
    "            video_views.append(views)\n",
    "\n",
    "    except Exception as e:\n",
    "        print(f\"An error occurred: {str(e)}\")\n",
    "\n",
    "    return video_views\n",
    "\n",
    "if __name__ == \"__main__\":\n",
    "    # Enter your search query here\n",
    "    search_query = input(\"Enter the YouTube search query: \")\n",
    "\n",
    "    # Get the number of views for the first five videos\n",
    "    video_views = get_video_views(search_query, max_results=5)\n",
    "\n",
    "    # Print the number of views\n",
    "    print(\"\\nNumber of Views:\")\n",
    "    for i, views in enumerate(video_views, start=1):\n",
    "        print(f\"{i}. {views}\")"
   ]
  },
  {
   "cell_type": "code",
   "execution_count": null,
   "id": "f05e8737-f068-4dde-9a6a-b0bc25463721",
   "metadata": {},
   "outputs": [],
   "source": []
  },
  {
   "cell_type": "code",
   "execution_count": null,
   "id": "9fc9a61b-b6bf-4a71-947d-9896d1edcd00",
   "metadata": {},
   "outputs": [],
   "source": []
  }
 ],
 "metadata": {
  "kernelspec": {
   "display_name": "Python 3 (ipykernel)",
   "language": "python",
   "name": "python3"
  },
  "language_info": {
   "codemirror_mode": {
    "name": "ipython",
    "version": 3
   },
   "file_extension": ".py",
   "mimetype": "text/x-python",
   "name": "python",
   "nbconvert_exporter": "python",
   "pygments_lexer": "ipython3",
   "version": "3.10.8"
  }
 },
 "nbformat": 4,
 "nbformat_minor": 5
}
